{
 "cells": [
  {
   "cell_type": "markdown",
   "id": "101b20ee-ce6d-46d2-881f-3a8e9bb763e1",
   "metadata": {},
   "source": [
    "# Electrochemical Determination of Acetominophen Concentrations in Over the Counter Medications\n",
    "\n",
    "You should have peak current data for each of your standard concentrations, as well as data for your unknown soltions. You should already have working code from previous weeks for all of the required analysis. \n",
    "1. Make an external calibration curve, obtain the equation of the line and solve for unknown concentrations. Be sure that you have error values for all calculated results.\n",
    "2. Your unknown concentrations are NOT the final amounts that were in the medications. Use your dilution factors and other measurements to convert your sample concentration back to concentration in the medication. Use the error propagation rules (addition/subtraction or multiplication addition) to carry the error on your results through to the final data needed.\n",
    "3. Use a t-test to compare your calculated values to the information that was provided on the medication packaging. Are the values the same at the 95 % confidence interval?"
   ]
  },
  {
   "cell_type": "code",
   "execution_count": null,
   "id": "739c3fbb-37c1-47f1-ab6a-0967929764e2",
   "metadata": {},
   "outputs": [],
   "source": [
    "# Linear Regressions"
   ]
  },
  {
   "cell_type": "code",
   "execution_count": null,
   "id": "a8c8fa3f-1f41-4c83-a431-2940c776c463",
   "metadata": {},
   "outputs": [],
   "source": [
    "# Dilutions and Error Prop."
   ]
  },
  {
   "cell_type": "code",
   "execution_count": null,
   "id": "40df56bc-9a18-40b3-a283-57f61e805c6c",
   "metadata": {},
   "outputs": [],
   "source": [
    "# T test (which T test should you use?)"
   ]
  },
  {
   "cell_type": "markdown",
   "id": "d4ee9a87-5c28-4dc1-8fbc-85b7ac6d4d25",
   "metadata": {},
   "source": [
    "## Post-Lab Questions\n",
    "\n",
    "Answer the following questions:\n",
    "\n",
    "1. Report your equation of the line completely with all relevent error data. Comment on the quality of the external calibration curve. \n",
    "2. Report your final amounts of Acetominophen per dose (use the dosage information given on the product packaging to determine appropriate units/dosages) with associated error values. Based on your error propagation, what part of the experiment do you think provided the biggest contribution to uncertainty in your final values?\n",
    "3. Does your calculated value match the information provided by the manufacturer? Explain how you know.\n",
    "4. Overall, was this a sucessful experiment? Would you recommend this technique as a way to check that medications containing acetominophen are labled correctly before sale?\n"
   ]
  },
  {
   "cell_type": "code",
   "execution_count": null,
   "id": "d1b6a395-39bb-4ca6-94c8-51295b2e4494",
   "metadata": {},
   "outputs": [],
   "source": []
  }
 ],
 "metadata": {
  "kernelspec": {
   "display_name": "Python 3 (ipykernel)",
   "language": "python",
   "name": "python3"
  },
  "language_info": {
   "codemirror_mode": {
    "name": "ipython",
    "version": 3
   },
   "file_extension": ".py",
   "mimetype": "text/x-python",
   "name": "python",
   "nbconvert_exporter": "python",
   "pygments_lexer": "ipython3",
   "version": "3.9.12"
  }
 },
 "nbformat": 4,
 "nbformat_minor": 5
}
