{
 "cells": [
  {
   "cell_type": "code",
   "execution_count": 1,
   "id": "32b6eb53-9f33-4ccc-a5cc-028e1b856d75",
   "metadata": {},
   "outputs": [],
   "source": [
    " #we will often import a number of extra packages into python. These are just a the ones we need today:\n",
    "import math\n",
    "import matplotlib.pyplot as plt\n",
    "import numpy as np\n",
    "import scipy.stats as stats\n"
   ]
  },
  {
   "cell_type": "markdown",
   "id": "7b4bd18b-a08d-41e8-822e-1e044123640e",
   "metadata": {},
   "source": [
    "## Writing Functions:\n",
    "\n",
    "We have used a lot of prebuilt functions in python all semester. These include things like \"print\" and \"plt.plot\" and even \"np.log10\".\n",
    "However, we often want to reuse code we've written to do more complicated tasks! This semestser, you've mostly just copied and pasted as needed, which works, and lets us see what we're doing clearly. But it's not the most efficient way to handle this problem. So here, I'll demonstrate how to define your own functions, and how that might be helpful, using our linear regression sample data!\n",
    "\n",
    "### First example function:\n",
    "\n",
    "In the block below is a very simple function. \"Def\" is used to define a function called hello. There is no input to this function, so we include empty parenthesis, and then end with a colon. Anything after the colon which in indented is inside the function (just like a for loop or if/then statement!)\n",
    "\n",
    "Run the block below and see what happens!"
   ]
  },
  {
   "cell_type": "code",
   "execution_count": 2,
   "id": "8588403a-a74e-4f38-b6f6-f100569b0729",
   "metadata": {},
   "outputs": [],
   "source": [
    "# A simple function\n",
    "\n",
    "def hello():\n",
    "    print(\"hello from inside a function\")\n",
    "    "
   ]
  },
  {
   "cell_type": "markdown",
   "id": "359ef3cb-1c8b-443f-9517-8676c30e0cb3",
   "metadata": {},
   "source": [
    "Huh? Nothing happened. Well, not really - we defined the function. For the rest of this notebook, our code knows a new function called hello that is supposed to print that statement. If we want to use the function, we call it in the code, just like we use any of the built in functions!\n",
    "\n",
    "Run the block below to actually call the function:"
   ]
  },
  {
   "cell_type": "code",
   "execution_count": 3,
   "id": "a160b169-47dd-4579-9aed-ea82f8aa8eac",
   "metadata": {},
   "outputs": [
    {
     "name": "stdout",
     "output_type": "stream",
     "text": [
      "hello from inside a function\n"
     ]
    }
   ],
   "source": [
    "hello()"
   ]
  },
  {
   "cell_type": "markdown",
   "id": "da84b5eb-b954-4512-8580-03dde3628bd7",
   "metadata": {},
   "source": [
    "## First useful function\n",
    "\n",
    "Ok, that's cute, but not terribly useful. Let's build a function for something we actually need more often, like say, calculating an average and a standard deviation!\n",
    "\n",
    "Note two changes to this compared to the hello function:\n",
    "1. We are passing some information into the function, and well tell python that by including a variable in parathesis when we define the function!\n",
    "\n",
    "2. At the end of this function, we also want to return some variables with our numbers saved. The line return allows us to do that!\n",
    "\n",
    "\n"
   ]
  },
  {
   "cell_type": "code",
   "execution_count": 4,
   "id": "3f658324-39f6-4f28-9fd9-cbb1db8dad17",
   "metadata": {},
   "outputs": [],
   "source": [
    "def xands(data):\n",
    "    import math\n",
    "    n = len(data)\n",
    "    # averaege\n",
    "    sumdata = 0\n",
    "    for x in data:\n",
    "        sumdata = sumdata + x\n",
    "        \n",
    "    average = sumdata/n\n",
    "    \n",
    "    # standard deviation\n",
    "    sigma_x = 0\n",
    "    for x in data:\n",
    "        sigma_x = sigma_x + ((x-average)**2)\n",
    "    \n",
    "    std = math.sqrt(sigma_x/(n-1))\n",
    "    \n",
    "    return(average,std)\n",
    "\n",
    "\n",
    "    "
   ]
  },
  {
   "cell_type": "markdown",
   "id": "920f1b40-509e-4e92-9349-0524c9c33cb8",
   "metadata": {},
   "source": [
    "## Calling a Function\n",
    "\n",
    "Now we call the function, to use it. Note a few handy details!\n",
    "1. It doesn't matter that the variables names match what we used in the function! Anything we pass into the function in paranethesis gets treated as the variable \"data\" regardless of what we call it in our code.\n",
    "\n",
    "2. The same thing is true for the return variables! Althrough in the function, I called them average and std, here, I'm just calling them x and y. It doesn't matter, as long as a remember that averages is returned first, and std is returned second!"
   ]
  },
  {
   "cell_type": "code",
   "execution_count": 5,
   "id": "2feef4bd-75a7-4cb2-a122-c93875350b62",
   "metadata": {},
   "outputs": [
    {
     "name": "stdout",
     "output_type": "stream",
     "text": [
      "13.460000000000003\n",
      "1.4484474446799926\n"
     ]
    }
   ],
   "source": [
    "sample = [14.1, 11.0, 13.8, 13.6, 14.8] # some old data\n",
    "\n",
    "x,y = xands(sample) # call the function (sample is going into th efunction, x and y are what are returned)\n",
    "\n",
    "# check the results - does it look like we got an average and a standard deviation?\n",
    "print(x) \n",
    "print(y)\n",
    "\n"
   ]
  },
  {
   "cell_type": "code",
   "execution_count": 6,
   "id": "bfe27f08-a87e-4c84-8a55-629212769bf1",
   "metadata": {},
   "outputs": [
    {
     "name": "stdout",
     "output_type": "stream",
     "text": [
      "[[11 80 66 90 77]\n",
      " [57 20 32 74 14]\n",
      " [16 56 41 18 63]]\n",
      "The average and standard deviation for column number 0 is 28.0 +/- 25.238858928247925\n",
      "The average and standard deviation for column number 1 is 52.0 +/- 30.199337741083\n",
      "The average and standard deviation for column number 2 is 46.333333333333336 +/- 17.61628034896508\n",
      "The average and standard deviation for column number 3 is 60.666666666666664 +/- 37.80652501002087\n"
     ]
    }
   ],
   "source": [
    "#Now we can reuse that function whenever!\n",
    "\n",
    "from numpy import random\n",
    "# generate some random data\n",
    "x = random.randint(100, size=(3, 5))\n",
    "\n",
    "print(x) \n",
    "\n",
    "\n",
    "# use the function to make iteration easy!\n",
    "\n",
    "mean = []\n",
    "stdev = []\n",
    "\n",
    "for i in range(4):\n",
    "    av, std = xands(x[:,i])\n",
    "    mean.append(av)\n",
    "    stdev.append(std)\n",
    "    print(F\"The average and standard deviation for column number {i} is {av} +/- {std}\")\n",
    "    \n",
    "\n",
    "\n",
    "#print(mean)\n",
    "#print(stdev)\n",
    "    \n",
    "\n",
    "    "
   ]
  },
  {
   "cell_type": "markdown",
   "id": "9557050c-4b2b-48b3-b98c-9f8965a3e757",
   "metadata": {},
   "source": [
    "## Try Building a Function to solve for Response Factor!\n",
    "\n",
    "Gather your thoughts\n",
    "1. What information needs to be passed into the function?\n",
    "2. What information needs to be returned?\n",
    "3. What calculation do you want to do inside the function? Write out the necessary algebra!\n",
    "\n",
    "Give it a shot!"
   ]
  },
  {
   "cell_type": "code",
   "execution_count": 7,
   "id": "0bfa3e2f-aed1-4d00-bf5a-a226f34245ce",
   "metadata": {},
   "outputs": [],
   "source": [
    "# define your function here - \n",
    "\n",
    "\n",
    "    \n",
    "    \n",
    "    \n",
    "\n"
   ]
  },
  {
   "cell_type": "code",
   "execution_count": 8,
   "id": "dde5457e-9e7c-42dc-ab10-cf426ff24f0f",
   "metadata": {},
   "outputs": [],
   "source": [
    "# use your function here - test it out on our in-class example problem\n",
    "\n",
    "Ax = 1200 # analyte signal\n",
    "Ac = 5.0 # analyte concentration\n",
    "ISx = 2400 # IS signal\n",
    "ISc = 5.0 # IS concentration\n",
    "\n"
   ]
  },
  {
   "cell_type": "markdown",
   "id": "e0e99891-d643-4136-8d1e-d7517e9c786d",
   "metadata": {},
   "source": []
  }
 ],
 "metadata": {
  "kernelspec": {
   "display_name": "Python 3 (ipykernel)",
   "language": "python",
   "name": "python3"
  },
  "language_info": {
   "codemirror_mode": {
    "name": "ipython",
    "version": 3
   },
   "file_extension": ".py",
   "mimetype": "text/x-python",
   "name": "python",
   "nbconvert_exporter": "python",
   "pygments_lexer": "ipython3",
   "version": "3.9.12"
  }
 },
 "nbformat": 4,
 "nbformat_minor": 5
}
