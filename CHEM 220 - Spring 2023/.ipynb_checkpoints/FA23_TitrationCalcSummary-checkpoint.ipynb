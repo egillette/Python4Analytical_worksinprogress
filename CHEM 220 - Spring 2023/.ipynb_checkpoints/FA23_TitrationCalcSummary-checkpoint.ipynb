{
 "cells": [
  {
   "cell_type": "markdown",
   "id": "f2e3853a-e1c6-4486-9134-a5e2895627fb",
   "metadata": {},
   "source": [
    "# Calculation Summary Notebook for Experiment 3\n",
    "In this notebook, we will use our data from day 1, experiment 2 in order to answer several key questions, recalling that the goal of this experiment is to standardize our HCl solution (i.e. determine a precise concentration for that soltion).\n",
    "1. Does the choice of indicator dye change the result of this experiment when working in DI water?\n",
    "2. Does the choice of indicator dye change the result of this experiment when working in seawater?\n",
    "3. Using an indicator dye, is there a significant difference between the result in DI water and in seawater?\n",
    "4. Is there a significant difference between the results in DI water when using an indicator dye vs. using a pH probe?\n",
    "\n",
    "\n",
    "Consider what sort of information will be needed to make these decisions, and consider what the answers to these questions may tell you about our ability to precisely and accurately determine pH in high salinity environments like ocean water or the Salton Sea.\n",
    "\n",
    "In this notebook, first we will address how to import and manage the data from your manual titrations. Then we will discuss how to import and process the results for the Hanna autotitrator. You will then need to apply your exisiting knowledge of statistical testing to answer the key questions."
   ]
  },
  {
   "cell_type": "code",
   "execution_count": 2,
   "id": "c8e18777-0a8e-453c-a5f2-12173a04dce0",
   "metadata": {},
   "outputs": [
    {
     "name": "stdout",
     "output_type": "stream",
     "text": [
      "[0.0998, 0.0546, 0.0495, 0.1041, 0.1018, 0.1, 0.0994, 0.106, 0.104, 0.103, 0.1047, 0.1073, 0.1027, 0.105, 0.1044, 0.11, 0.103, 0.105, 0.104, 0.105, 0.102, 0.105, 0.102, 0.105]\n",
      "[0.103, 0.0995, 0.101, 0.0919, 0.0993, 0.094, 0.122, 0.106, 0.102, 0.1025, 0.111, 0.1034, 0.9841, 0.103, 0.1033, 0.102, 0.1, 0.1, 0.0968, 0.0999, 0.1, 0.098, 0.103, 0.104]\n",
      "[0.097, 0.091, 0.0891, 0.0958, 0.0997, 0.1004, 0.0902, 0.0914, 0.0904, 0.0983, 0.1073, 0.1075, 0.1105, 0.1057, 0.1019, 0.106, 0.091, 0.094, 0.0974, 0.101, 0.101, 0.099, 0.0997, 0.0992]\n",
      "[0.0809, 0.0548, 0.0509, 0.0882, 0.0928, 0.0916, 0.0969, 0.0973, 0.0966, 0.0993, 0.0974, 0.1025, 0.0931, 0.0966, 0.0975, 0.092, 0.084, 0.091, 0.0896, 0.0955, 0.0923, 0.0971, 0.1001, 0.101]\n"
     ]
    }
   ],
   "source": [
    "## Import the class data from the provided .csv file\n",
    "# RUN THIS BLOCK WITHOUT MAKING ANY CHANGES! JUST CHECK AND MAKE SURE THE DATA LOOKS CORRECT\n",
    "\n",
    "# Just like we imported some extra math functions before, we're going to import some \n",
    "# extra statistical functions here\n",
    "import math\n",
    "import numpy as np\n",
    "import scipy.stats as stats\n",
    "\n",
    "#Don't worry too much about this code. It's reading in the file, and reorganizing it into lists based on the columns in the csv file\n",
    "\n",
    "import pandas as pd\n",
    "data = pd.read_csv(\"SP23_exp2.csv\")\n",
    "## BB_DI data\n",
    "BBx = data['BB_DI'].tolist()\n",
    "BB_DI = [x for x in BBx if pd.isnull(x) == False]\n",
    "print(BB_DI)\n",
    "# MR_DI data\n",
    "MRx = data['MR_DI'].tolist()\n",
    "MR_DI = [x for x in MRx if pd.isnull(x) == False]\n",
    "print(MR_DI)\n",
    "\n",
    "## BB_SW data\n",
    "BBy = data['BB_SW'].tolist()\n",
    "BB_SW = [x for x in BBy if pd.isnull(x) == False]\n",
    "print(BB_SW)\n",
    "# MR_DI data\n",
    "MRy = data['MR_SW'].tolist()\n",
    "MR_SW = [x for x in MRy if pd.isnull(x) == False]\n",
    "print(MR_SW)\n",
    "\n"
   ]
  },
  {
   "cell_type": "code",
   "execution_count": 4,
   "id": "06cddfad-402d-4a3b-bb47-6f330e6c2f25",
   "metadata": {},
   "outputs": [
    {
     "name": "stdout",
     "output_type": "stream",
     "text": [
      "the average HCl concentration calculated using bromothymol blue in DI water is 0.099470833333333 +/- 0.014812112527801  M \n"
     ]
    }
   ],
   "source": [
    "# First, as always, we will want averages and standard deviations. \n",
    "# Note that the code above made lists for each column in the class data sheet. The variable names are the same as the column headings. \n",
    "# So, for example, the Bromothymol Blue data in DI water is saved in a list called BB_DI\n",
    "\n",
    "x_BBdi = stats.tmean(BB_DI)\n",
    "s_BBdi = stats.tstd(BB_DI)\n",
    "\n",
    "# Be sure to fix this print statement to report the correct number of sig figs for your data!\n",
    "print (F\"the average HCl concentration calculated using bromothymol blue in DI water is {x_BBdi:.15f} +/- {s_BBdi:.15f}  M \")\n",
    "\n",
    "# Complete the average and standard deviation code for the rest of the data sets\n",
    "\n",
    "\n"
   ]
  },
  {
   "cell_type": "code",
   "execution_count": null,
   "id": "c0a83262-2299-4d05-90c2-e068126b50ee",
   "metadata": {},
   "outputs": [],
   "source": [
    "# Next, get 95% condifence intervals for each data set. Remember, you can reuse code from previous assignments!\n"
   ]
  },
  {
   "cell_type": "code",
   "execution_count": null,
   "id": "5b9abeaa-dc7d-4121-ba42-2838fa104c99",
   "metadata": {},
   "outputs": [],
   "source": [
    "# Now that you have averages and standard deviations for all the data, consider what statistical testing is needed to answer questions 1\n",
    "# Write the necessary code here. Update the output of your final statistical tests to answer the question specifically.\n",
    "\n"
   ]
  },
  {
   "cell_type": "code",
   "execution_count": null,
   "id": "8b8b13c9-87b8-45b1-a25e-0d5f2b9c2a73",
   "metadata": {},
   "outputs": [],
   "source": [
    "# Code to answer Question 2 goes here. Again, remember that you can always reuse code, but update the output statements appropraitely!\n"
   ]
  },
  {
   "cell_type": "code",
   "execution_count": null,
   "id": "ea306b9e-cf9a-4edd-a802-d3be0ea2b299",
   "metadata": {},
   "outputs": [],
   "source": [
    "# # Code to answer Question 3 goes here. Again, remember that you can always reuse code, but update the output statements appropraitely!\n"
   ]
  },
  {
   "cell_type": "markdown",
   "id": "2c6e4e2d-1bda-446a-9070-a7e42b4cd9b2",
   "metadata": {},
   "source": [
    "## Using the Hanna autotitrator data\n",
    "\n",
    "Questions 1-3 could be addressed with the manual titration data only. Those results are providing details about the precision of the class' manual titrations.\n",
    "In order to assess accuracy, we would need a \"true\" value, but we may not actually have a known value for this HCl solution. We know what it should be, based on the procedure when it was made, but it is several years old now, and issues of degradation, solvent evaporation, etc. are impossible for us to quantify. In this situation, we will turn to something we consider to be a more reliable (accurate and precise) measurement to provide a comparison measurement that we can use to assess accuracy. For us, that technique is the autotitration using a glass pH probe. So, to assess the accuracy of our results, we need to import that titration data and calculate the concentration of HCl based on that technique. Follow the instructions below to complete that process."
   ]
  },
  {
   "cell_type": "code",
   "execution_count": 10,
   "id": "75f1be17-33a0-4ed3-a17e-602ae54f7a1d",
   "metadata": {},
   "outputs": [
    {
     "data": {
      "image/png": "[encoded data removed]",
      "text/plain": [
       "<Figure size 432x288 with 1 Axes>"
      ]
     },
     "metadata": {
      "needs_background": "light"
     },
     "output_type": "display_data"
    }
   ],
   "source": [
    "import matplotlib.pyplot as plt\n",
    "#be sure the file name here is updated to reflect your group's actual .csv file!\n",
    "\n",
    "csv = np.genfromtxt ('TI_00105.csv', delimiter=\",\")\n",
    "#convert the data to lists\n",
    "#volume data\n",
    "volume = csv[:,0]\n",
    "#pH data\n",
    "pH = csv[:,1]\n",
    "#plot the data\n",
    "plt.plot(volume, pH, 'ro')\n",
    "# Add labels on the x and y axis, always including units.\n",
    "plt.xlabel('titrant added (mL)')\n",
    "plt.ylabel('pH')\n",
    "#lets just take a look!\n",
    "plt.show()"
   ]
  },
  {
   "cell_type": "markdown",
   "id": "1f74a6a3-b99f-4f3e-af54-db0f8d101ee9",
   "metadata": {},
   "source": [
    "### Finding equivalence points\n",
    "\n",
    "First, lets take a closer look at the data.\n",
    "\n",
    "   1. Based on the graph above, do you think is acid is a monoprotic, diprotic or triprotic acid?\n",
    "\n",
    "   2. How many equivalence points should we find?\n",
    "\n",
    "   3. Can you see them? Estimate by eye approximately where you think those equivalence points are.\n",
    "\n",
    "\n",
    "It can be hard to spot the equivalence points by eye, but we can manipulate this data to making it easier to find the equivalence point. The method we will use here is called the <b> first derivitive </b> method."
   ]
  },
  {
   "cell_type": "code",
   "execution_count": 16,
   "id": "ad427901-fa3d-4279-93fa-84f84203a9d1",
   "metadata": {},
   "outputs": [
    {
     "name": "stdout",
     "output_type": "stream",
     "text": [
      "[   nan -1.25  -0.93  -0.77  -0.525 -0.56  -0.455 -0.305 -0.455 -0.29\n",
      " -0.59  -0.13  -0.215 -0.355 -0.335 -0.325 -0.22  -0.28  -0.195 -0.25\n",
      " -0.255 -0.285 -0.215 -0.43  -0.275 -0.285 -0.22  -0.395 -0.365 -0.27\n",
      " -0.67  -0.18  -0.675 -0.855 -0.73  -1.17  -1.675 -7.655 -5.885 -1.35\n",
      " -0.83  -0.58  -0.49  -0.36  -0.36  -0.265 -0.24  -0.26  -0.185 -0.18\n",
      " -0.165 -0.17  -0.14  -0.15  -0.125 -0.13  -0.115 -0.11  -0.1   -0.095\n",
      " -0.085 -0.115 -0.085 -0.085 -0.075 -0.075 -0.075 -0.07  -0.075 -0.05 ]\n"
     ]
    },
    {
     "data": {
      "image/png": "[encoded data removed]",
      "text/plain": [
       "<Figure size 432x288 with 1 Axes>"
      ]
     },
     "metadata": {
      "needs_background": "light"
     },
     "output_type": "display_data"
    }
   ],
   "source": [
    "from numpy import diff\n",
    "# take the derivitive of pH with respect to volume\n",
    "\n",
    "dpHdV = diff(pH)/diff(volume)\n",
    "\n",
    "print(dpHdV)\n",
    "\n",
    "volume_update = np.delete(volume, (0), axis=0)\n",
    "\n",
    "plt.plot(volume_update, dpHdV, 'ro')\n",
    "\n",
    "# Add labels on the x and y axis, always including units.\n",
    "plt.xlabel('titrant added (mL)')\n",
    "plt.ylabel('d (pH) / d(V) ')\n",
    "\n",
    "\n",
    "#lets just take a look!\n",
    "plt.show()"
   ]
  },
  {
   "cell_type": "markdown",
   "id": "03c7659a-bcae-437a-8454-339e8c464a3a",
   "metadata": {},
   "source": [
    "Notice that the sharp peaks are at the equivalence points! Remember, a derivitive is just a measure of how quickly your function is changing, so it is largest where the slope of the line is largest! This makes the equivalnce points a lot easier to see! \n",
    "We can automatically report the volume of the highest peak, using the <i> max </i>; but beware in polyprotic titrations, be sure to keep track of which equivalence point is being returned"
   ]
  },
  {
   "cell_type": "code",
   "execution_count": 17,
   "id": "cb27cab3-0c38-4ebe-b6c4-720fc1dc12ce",
   "metadata": {},
   "outputs": [
    {
     "name": "stdout",
     "output_type": "stream",
     "text": [
      "the endpoint volume is 7.4 mL\n"
     ]
    }
   ],
   "source": [
    "# finding the index of the minimum value in the first derivitive array\n",
    "#there is a \"not a number\" that often appears in the first line of this array, this next line just ignores that number\n",
    "dpHdV = np.delete(dpHdV, (0), axis=0)\n",
    "\n",
    "#we ask for the location of the minimum value in the array dpHdV\n",
    "ind = np.argmin(dpHdV)\n",
    "\n",
    "# finding the volume at the same index\n",
    "endpoint_volume = volume_update[ind]\n",
    "\n",
    "print (F\"the endpoint volume is {endpoint_volume} mL\")"
   ]
  },
  {
   "cell_type": "markdown",
   "id": "0d45e660-6db0-434f-b59d-98ba4759c072",
   "metadata": {},
   "source": [
    "Once you have an endpoint volume, determining the concentration of the HCl should be a fairly simple alegbra problem, using your known mass of Tris. Complete that math below to get a \"true\" value of the HCl concentration in water. Then repeat this process for the seawater file. "
   ]
  },
  {
   "cell_type": "code",
   "execution_count": null,
   "id": "5c2beb80-34c4-4ac1-bc97-223f3386bf3b",
   "metadata": {},
   "outputs": [],
   "source": [
    "# Convert endpoint volume to concentration of HCl here\n"
   ]
  },
  {
   "cell_type": "code",
   "execution_count": null,
   "id": "033a6f85-bef7-4888-8456-1fa1ff6fa07a",
   "metadata": {},
   "outputs": [],
   "source": [
    "# repeat this process for seawater. As always, reuse code, but be sure to update output statements!\n",
    "\n"
   ]
  },
  {
   "cell_type": "markdown",
   "id": "0710bd82-70c7-43aa-9e9c-053edd8f786d",
   "metadata": {},
   "source": [
    "## Questions 4 and 5\n",
    "\n",
    "What statistical test do we use to compare a measured value to a \"true value\"? Use that method to answer questions 4:\n"
   ]
  },
  {
   "cell_type": "code",
   "execution_count": null,
   "id": "30948367-c8d5-4a7f-9a0d-9cde08161120",
   "metadata": {},
   "outputs": [],
   "source": [
    "# Code for Question 4"
   ]
  },
  {
   "cell_type": "code",
   "execution_count": null,
   "id": "f67658ea-3d05-41d8-bbbb-ab2668c90eee",
   "metadata": {},
   "outputs": [],
   "source": []
  },
  {
   "cell_type": "markdown",
   "id": "05f8e24e-8dd3-431a-8130-f2da554a9335",
   "metadata": {},
   "source": [
    "# Post-Lab Questions\n",
    "Be sure all results are being reported above with correct significant digits in clear descriptive print statements. Be sure you have answered all in text questions\n",
    "Finally, reflect on the whole lab to answer the following questions:\n",
    "\n",
    "1. Based on your results, which indicator dye would you recommend for use in future standardizations of HCl? Support your choice with data!\n",
    "2. Based on our results, do you think that our indicator dyes are seriously impacted by the seawater samples? Why or why not?\n",
    "3. Based on our results, do you think that our pH measurements are seriously impacted by the seawater samples? Why or why not?\n",
    "4. Would you recommend using a pH probe or one of our indicator dyes when trying to measure pH in a seawater sample? Support your choice with data!\n"
   ]
  },
  {
   "cell_type": "code",
   "execution_count": null,
   "id": "95557e04-13dc-48c6-8356-19981ea82661",
   "metadata": {},
   "outputs": [],
   "source": []
  }
 ],
 "metadata": {
  "kernelspec": {
   "display_name": "Python 3 (ipykernel)",
   "language": "python",
   "name": "python3"
  },
  "language_info": {
   "codemirror_mode": {
    "name": "ipython",
    "version": 3
   },
   "file_extension": ".py",
   "mimetype": "text/x-python",
   "name": "python",
   "nbconvert_exporter": "python",
   "pygments_lexer": "ipython3",
   "version": "3.9.12"
  }
 },
 "nbformat": 4,
 "nbformat_minor": 5
}
