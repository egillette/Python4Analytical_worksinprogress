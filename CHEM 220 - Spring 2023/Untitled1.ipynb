{
 "cells": [
  {
   "cell_type": "markdown",
   "id": "38daf6b0-d998-453f-bb85-7dc36f49624f",
   "metadata": {},
   "source": [
    "# Kinetics Post-Lab Calculations\n",
    "\n",
    "In this experiment, you are monitoring the progress of the following reaction over time, at a number of different temperatures:\n",
    "\n",
    "$$ Fe(phen)_{3}^{2+} (aq) + 3 H_{3}O^{+} (aq) \\leftrightarrow Fe^{2+} (aq) + 3phenH^{+} (aq) + 3 H_{2}O (l) $$ \n",
    "There are two main parts of this experiment:\n",
    "1. Determine the rate law for the dissociation of ferroin in acid\n",
    "2. Determine the activation energy for the disscoiation of ferroin in acid\n",
    "\n",
    "Remember to include correct error values on all reported numbers\n"
   ]
  },
  {
   "cell_type": "code",
   "execution_count": null,
   "id": "a11da482-88f1-4862-8212-0b543be5371c",
   "metadata": {},
   "outputs": [],
   "source": [
    "# Determine the order with respect to ferroin"
   ]
  },
  {
   "cell_type": "code",
   "execution_count": null,
   "id": "a8fefd2c-8973-4eb0-b011-73ceef4e0f56",
   "metadata": {},
   "outputs": [],
   "source": [
    "# Determine the order with respect to H2SO4"
   ]
  },
  {
   "cell_type": "code",
   "execution_count": null,
   "id": "cf767bbb-94a6-4383-b981-9614ef0fffa9",
   "metadata": {},
   "outputs": [],
   "source": [
    "# Determine k"
   ]
  },
  {
   "cell_type": "code",
   "execution_count": null,
   "id": "9ba9db37-05b8-43b6-93e8-12d7c9e5296e",
   "metadata": {},
   "outputs": [],
   "source": [
    "# Propagate error for k"
   ]
  },
  {
   "cell_type": "code",
   "execution_count": null,
   "id": "1630d168-fdc5-431c-97a1-ce0a18e3dcf4",
   "metadata": {},
   "outputs": [],
   "source": [
    "# Determine activation energy "
   ]
  },
  {
   "cell_type": "code",
   "execution_count": null,
   "id": "ef853417-1e5e-4f3c-a408-ca19fcee9aea",
   "metadata": {},
   "outputs": [],
   "source": [
    "#Propagate error for activation energy"
   ]
  },
  {
   "cell_type": "markdown",
   "id": "c4ba90b7-67a9-4b4b-9d57-add1fe7e9448",
   "metadata": {},
   "source": [
    "## Post-lab Questions:\n",
    "\n",
    "1. Report your complete rate law, including absolute and relative error for k\n",
    "\n",
    "2. What factor is the largest contributor to the error in your calculated k value? Explain how you know and explain how you might change your procedure in the future to reduce that error.\n",
    "\n",
    "3. Report your activation energy, including absolute and relative error.\n",
    "\n",
    "4. What factor is the largest contributor to the error in your calculated activation energy? Explain how you know and explain how you might change your procedure in the future to reduce that error.\n",
    "\n",
    "5. Consider what the rate law suggests about reaction mechanism - what is the most likely rate limiting step is this reaction?\n",
    "\n",
    "6. If the rate limiting step is the first step, propose a second set that would complete the overall reaction.\n",
    "\n",
    "\n",
    "Note: For questions 5 and 6, if you would prefer to hand-write your proposed reactions, or use Chem draw, you may upload images to the lab archives page to answer these questions.\n"
   ]
  },
  {
   "cell_type": "code",
   "execution_count": null,
   "id": "7342cb67-2b4f-4bad-a155-e02267723d7a",
   "metadata": {},
   "outputs": [],
   "source": []
  }
 ],
 "metadata": {
  "kernelspec": {
   "display_name": "Python 3 (ipykernel)",
   "language": "python",
   "name": "python3"
  },
  "language_info": {
   "codemirror_mode": {
    "name": "ipython",
    "version": 3
   },
   "file_extension": ".py",
   "mimetype": "text/x-python",
   "name": "python",
   "nbconvert_exporter": "python",
   "pygments_lexer": "ipython3",
   "version": "3.9.12"
  }
 },
 "nbformat": 4,
 "nbformat_minor": 5
}
