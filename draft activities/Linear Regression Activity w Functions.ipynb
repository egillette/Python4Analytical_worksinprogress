{
 "cells": [
  {
   "cell_type": "code",
   "execution_count": 2,
   "id": "65d19319-ff44-4342-a3cb-87048d46b342",
   "metadata": {},
   "outputs": [
    {
     "name": "stdout",
     "output_type": "stream",
     "text": [
      "[[0.    0.092 0.182 0.243 0.325 0.41 ]\n",
      " [0.    0.081 0.177 0.249 0.37  0.383]\n",
      " [0.    0.088 0.169 0.233 0.31  0.396]\n",
      " [0.    0.093 0.175 0.252 0.355 0.405]]\n"
     ]
    }
   ],
   "source": [
    "# we will often import a number of extra packages into python. These are just a the ones we need today:\n",
    "import math\n",
    "import matplotlib.pyplot as plt\n",
    "import numpy as np\n",
    "import scipy.stats as stats\n",
    "\n",
    "\n",
    "# The first thing you're likely to need is to turn all of those replicate values into averages, and compile those averages into a single array\n",
    "data = np.genfromtxt('drylabXL.csv', dtype=float, delimiter=',', names=None) \n",
    "\n",
    "print(data)\n",
    "\n",
    "# Note the format here; each row is a trial, each column is a different data set. "
   ]
  },
  {
   "cell_type": "code",
   "execution_count": 7,
   "id": "4d9fe7dc-d6e1-4ef6-89ed-03b9531d4bb2",
   "metadata": {},
   "outputs": [],
   "source": [
    "# take the average of the blank, so we can subtract it from each data point\n",
    "blank_mean = np.mean(data[:,0])\n",
    "#print(blank_mean)\n",
    "\n",
    "absorbance = []\n",
    "std =[]\n",
    "columns = data.shape[1]\n",
    "\n",
    "for x in range(columns):\n",
    "    # here we calculate the average of each column. \n",
    "    \n",
    "    average = np.mean(data[:,x])\n",
    "    absorbance.append (average)\n",
    "    \n",
    "    #calculate the standard deviation of each column\n",
    "    std_temp = np.std(data[:,x]) \n",
    "    std.append (std_temp)\n",
    "    \n",
    "    \n",
    "    \n",
    "# here i'm just converting standard deviation into a numpy array to make our lives easier later\n",
    "# the append command as we use it here only works on regular lists, not numpy arrays, which is something to be aware of.\n",
    "std = np.array(std)  \n",
    "\n",
    "# but numpy arrays are way easier to do simple math with; say to 'correct' all of our absorbance values by subtracting the blank!\n",
    "absorbance = np.array(absorbance) -  blank_mean\n",
    "\n",
    "# x values should also be converted to a numpy arry\n",
    "concentration = np.array([0, 9.36, 18.72, 28.08, 37.44, 44.54]) #mM\n",
    "\n",
    "# use c to set the confidence you want (90 % is 0.90, for example)\n",
    "c = 0.95\n",
    "alpha = 1-c\n",
    "# have you seen any command that might give you n without just inputting a number? To make your code more general for different data sets?\n",
    "n = 3\n",
    "\n",
    "t = stats.t.ppf(1-alpha/2, n-1)\n",
    "\n",
    "CI_95 = std*(t/math.sqrt(n))\n"
   ]
  },
  {
   "cell_type": "code",
   "execution_count": 8,
   "id": "f7028888-07fe-45e7-abec-62bd86a01d94",
   "metadata": {},
   "outputs": [
    {
     "data": {
      "text/plain": [
       "Text(0, 0.5, 'average absorbance')"
      ]
     },
     "execution_count": 8,
     "metadata": {},
     "output_type": "execute_result"
    },
    {
     "data": {
      "image/png": "[encoded data removed]",
      "text/plain": [
       "<Figure size 432x288 with 1 Axes>"
      ]
     },
     "metadata": {
      "needs_background": "light"
     },
     "output_type": "display_data"
    }
   ],
   "source": [
    "# Final complete process\n",
    "\n",
    "#linear regression\n",
    "m, b, R2, p, s_m = stats.linregress(concentration, absorbance)\n",
    "# Use our predicted model\n",
    "predict_y = (concentration*m)+b\n",
    "# Plot the predicted data (note if we don't ask for a specific marker style, we'll just get a line)\n",
    "plt.plot(concentration,predict_y)\n",
    "\n",
    "#add the real data to the plot, just like we did before:\n",
    "plt.errorbar(concentration, absorbance, yerr = CI_95, xerr = None, fmt = 'r.')\n",
    "plt.xlabel(\"concentration (mM)\")\n",
    "plt.ylabel(\"average absorbance\")"
   ]
  },
  {
   "cell_type": "code",
   "execution_count": 9,
   "id": "bd21c5d6-3b82-4531-bd0c-5d4f986a080d",
   "metadata": {},
   "outputs": [
    {
     "name": "stdout",
     "output_type": "stream",
     "text": [
      "the concentration of the unknown is 30.081102630356185 mM\n"
     ]
    }
   ],
   "source": [
    "#Add the absorbance of your unknown here:\n",
    "\n",
    "unknown = np.array([0.273,0.270,0.269])\n",
    "\n",
    "unknown_av = np.mean(unknown)\n",
    "\n",
    "unknown_std = np.std(unknown)\n",
    "\n",
    "# now using m, b and unknown_density, solve for unknown_concentration\n",
    "unknown_concentration = (unknown_av-b)/m\n",
    "\n",
    "print ('the concentration of the unknown is ' + str(unknown_concentration) + ' mM')\n",
    "\n",
    "#do your values match? If not, check your math!"
   ]
  },
  {
   "cell_type": "code",
   "execution_count": 25,
   "id": "b4cbd8fe-9e76-4295-b049-7ef013874de8",
   "metadata": {},
   "outputs": [],
   "source": [
    "def reg_error(x,y):\n",
    "    import scipy.stats as stats\n",
    "    import numpy as np\n",
    "    m, b, R2, p, s_m = stats.linregress(x, y)\n",
    "    # Manually calculate error in y \n",
    "    # standard error in most python packages is the error in the slope, rather than error in the y-predicitions of the model\n",
    "\n",
    "\n",
    "    sum_square = 0\n",
    "\n",
    "    n = len(y)\n",
    "\n",
    "    ## so here, for every single point in our array, we're plugging in concentration, and comparing it to the actual measured absorbance\n",
    "    # Again, note that our count variable does double duty; keeping track of the while loop, and calling the right array value! \n",
    "\n",
    "    for i in range(n):\n",
    "        sum_square = sum_square + ((y[i]-(m*x[i])-b)**2)\n",
    "    s_y = math.sqrt(sum_square/(n-2))\n",
    "    x = np.array(x)\n",
    "    s_b = math.sqrt((sum(x**2)*(s_m**2))/(len(x)))\n",
    "    \n",
    "    #print (F\"the y error predicted by this linear regression model is {y_err} arbirtrary absorbance units\")\n",
    "    return(s_y, s_m, s_b)"
   ]
  },
  {
   "cell_type": "code",
   "execution_count": 29,
   "id": "45e0ad53-0e22-4435-bec0-3f139c7b784c",
   "metadata": {},
   "outputs": [
    {
     "name": "stdout",
     "output_type": "stream",
     "text": [
      "Y error in this prediction is 0.005951314623629148. The slope error is 0.0001572872505972947 and the intercept error is 0.00436081069880193\n"
     ]
    }
   ],
   "source": [
    "s_y, s_m, s_b = reg_error(concentration,absorbance)\n",
    "\n",
    "print(F\"Y error in this prediction is {s_y}. The slope error is {s_m} and the intercept error is {s_b}\")"
   ]
  },
  {
   "cell_type": "code",
   "execution_count": null,
   "id": "7e510645-a477-4e28-abfe-f04de6664699",
   "metadata": {},
   "outputs": [],
   "source": []
  },
  {
   "cell_type": "code",
   "execution_count": 24,
   "id": "dda38f01-32f8-4a5e-b11b-23bf9f867666",
   "metadata": {},
   "outputs": [
    {
     "name": "stdout",
     "output_type": "stream",
     "text": [
      "the y error predicted by this linear regression model is 0.005951314623629148 arbirtrary absorbance units\n"
     ]
    }
   ],
   "source": [
    "x = concentration\n",
    "y = absorbance\n",
    "import scipy.stats as stats\n",
    "import numpy as np\n",
    "m, b, R2, p, s_m = stats.linregress(x, y)\n",
    "# Manually calculate error in y \n",
    "# standard error in most python packages is the error in the slope, rather than error in the y-predicitions of the model\n",
    "sum_square = 0\n",
    "n = len(y)\n",
    "\n",
    "## so here, for every single point in our array, we're plugging in concentration, and comparing it to the actual measured absorbance\n",
    "# Again, note that our count variable does double duty; keeping track of the while loop, and calling the right array value! \n",
    "\n",
    "for i in range(n):\n",
    "    sum_square = sum_square + ((y[i]-(m*x[i])-b)**2)\n",
    "s_y = math.sqrt(sum_square/(n-2))\n",
    "    \n",
    "x = np.array(x)\n",
    "s_b = math.sqrt((sum(x**2)*(s_m**2))/(len(x)))\n",
    "    \n",
    "#print (F\"the y error predicted by this linear regression model is {s_y} arbirtrary absorbance units\")\n",
    "#return(s_y, s_m, s_b)"
   ]
  },
  {
   "cell_type": "code",
   "execution_count": null,
   "id": "73ebd7ae-a3a9-4e3f-a16c-af1a10eb3648",
   "metadata": {},
   "outputs": [],
   "source": []
  }
 ],
 "metadata": {
  "kernelspec": {
   "display_name": "Python 3 (ipykernel)",
   "language": "python",
   "name": "python3"
  },
  "language_info": {
   "codemirror_mode": {
    "name": "ipython",
    "version": 3
   },
   "file_extension": ".py",
   "mimetype": "text/x-python",
   "name": "python",
   "nbconvert_exporter": "python",
   "pygments_lexer": "ipython3",
   "version": "3.9.12"
  }
 },
 "nbformat": 4,
 "nbformat_minor": 5
}
