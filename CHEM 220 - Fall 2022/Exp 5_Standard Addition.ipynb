{
 "cells": [
  {
   "cell_type": "markdown",
   "id": "786ed1fb-e429-4e1c-bff0-8ef16119f6ab",
   "metadata": {},
   "source": [
    "## Standard Addition with Many Samples\n",
    "\n",
    "In this case, you can plot your absorbance values vs. the known concentrations (as determined by your volume and iron (ii) standard concentrations.\n",
    "Perform a linear regression to get the equation of the line, and then, instead of solving for an unknown, just solve for the x-intercept!\n",
    "The absolute value of the x-intercept is the unknown values.\n",
    "You should be able to do this entirely by reusing code from last week!"
   ]
  },
  {
   "cell_type": "code",
   "execution_count": null,
   "id": "730a91c5-c01c-420a-9247-e6a86e5c9a21",
   "metadata": {},
   "outputs": [],
   "source": [
    "## solve for unknown concentrations here\n",
    "\n",
    "\n",
    "\n",
    "\n",
    "\n",
    "\n",
    "\n",
    "\n",
    "\n"
   ]
  },
  {
   "cell_type": "markdown",
   "id": "1169de62-6e13-4fca-9ad7-d661e49e9cb4",
   "metadata": {},
   "source": [
    "## Error in Standard Addition\n",
    "\n",
    "The error analysis for Standard Addition is identical to External Calibration, except for the x error.\n",
    "Copy code from week 4 to get the y, m and b error values on your linear regression"
   ]
  },
  {
   "cell_type": "code",
   "execution_count": null,
   "id": "f377e16e-2dbf-46f4-92bb-ab7bc9b23277",
   "metadata": {},
   "outputs": [],
   "source": [
    "## linear regression error here\n",
    "\n",
    "\n",
    "\n",
    "\n",
    "\n",
    "\n"
   ]
  },
  {
   "cell_type": "markdown",
   "id": "dd02b1dc-0d4d-409e-be80-409f864bad2d",
   "metadata": {},
   "source": [
    "## X error in standard addition\n",
    "\n",
    "The equation for x error is <b> almost </b> identical to the error for an external calibration curve. Look closely at this equation - what is missing, and what needs to change in your code?\n",
    "\n",
    "The complete equation is shown here: \n",
    "\n",
    "$$ s_{x}= \\frac{s_{y}}{\\mid{m}\\mid}{\\sqrt {\\frac {1}{n} + \\frac {\\bar{y}^{2}}{m^{2}\\sum (x-\\bar{x})^{2}}}} $$\n",
    "\n",
    "You should be able to make some slight modifications to the code you already have for your linear regressions to make this calculation\n"
   ]
  },
  {
   "cell_type": "code",
   "execution_count": null,
   "id": "f09db054-d051-4be2-bab9-af1c97ad3b1c",
   "metadata": {},
   "outputs": [],
   "source": [
    "## final error in x here\n",
    "\n",
    "\n",
    "\n",
    "\n",
    "\n",
    "\n"
   ]
  },
  {
   "cell_type": "markdown",
   "id": "a4b73447-ed2c-4f56-841a-e97309984d70",
   "metadata": {},
   "source": [
    "## Submission Instructions\n",
    "Be sure to repeat the process above for all available data sets (total iron and Fe(II), in the performance standard and seawater samples, and provide the following information:\n",
    "\n",
    "1. Report all calculated values with correct error and significant digits\n",
    "2. In what situations does it make sense to use the standard addition method? Why did we use it here?\n",
    "3. Did you achieve the goal of the experiment? Why or why not?"
   ]
  },
  {
   "cell_type": "code",
   "execution_count": null,
   "id": "22b67ca3-7d2d-4fd3-97a7-349399a9a646",
   "metadata": {},
   "outputs": [],
   "source": []
  }
 ],
 "metadata": {
  "kernelspec": {
   "display_name": "Python 3 (ipykernel)",
   "language": "python",
   "name": "python3"
  },
  "language_info": {
   "codemirror_mode": {
    "name": "ipython",
    "version": 3
   },
   "file_extension": ".py",
   "mimetype": "text/x-python",
   "name": "python",
   "nbconvert_exporter": "python",
   "pygments_lexer": "ipython3",
   "version": "3.9.12"
  }
 },
 "nbformat": 4,
 "nbformat_minor": 5
}
