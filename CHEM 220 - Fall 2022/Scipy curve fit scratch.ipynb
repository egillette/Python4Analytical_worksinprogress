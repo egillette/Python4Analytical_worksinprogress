{
 "cells": [
  {
   "cell_type": "markdown",
   "id": "bb4fbc63-5636-45b0-a777-21a34f6b59d3",
   "metadata": {},
   "source": [
    "# Scipy curve fit scratch\n",
    "\n",
    "Playing around with curve fit functions\n",
    "\n",
    "### Demo 1 - exponential fit\n",
    " fitting to general function $ y = a \\times e^{-cx} + d $"
   ]
  },
  {
   "cell_type": "code",
   "execution_count": 4,
   "id": "d43291a9-d8b8-44dc-92d8-4079e640d152",
   "metadata": {},
   "outputs": [],
   "source": [
    "#Import all the functions - run this first!\n",
    "import numpy as np\n",
    "from scipy.optimize import curve_fit\n",
    "import matplotlib.pyplot as plt"
   ]
  },
  {
   "cell_type": "code",
   "execution_count": 27,
   "id": "7b132a98-1560-41cf-84bd-3e168d6e0f16",
   "metadata": {
    "tags": []
   },
   "outputs": [
    {
     "name": "stdout",
     "output_type": "stream",
     "text": [
      "[ 1.00000000e+03  2.30258509e+00 -9.18109727e-12]\n",
      "999.9999999909253\n",
      "2.3025850929840628\n",
      "-9.181097274558132e-12\n"
     ]
    },
    {
     "data": {
      "text/plain": [
       "[<matplotlib.lines.Line2D at 0x237b643b340>]"
      ]
     },
     "execution_count": 27,
     "metadata": {},
     "output_type": "execute_result"
    },
    {
     "data": {
      "image/png": "[encoded data removed]",
      "text/plain": [
       "<Figure size 432x288 with 1 Axes>"
      ]
     },
     "metadata": {
      "needs_background": "light"
     },
     "output_type": "display_data"
    }
   ],
   "source": [
    "def monoExp(ex, a, c, d):\n",
    "    return  a*np.exp(-c*ex)+d\n",
    "    \n",
    "x = np.array([1.0,2,3,4,5,6])\n",
    "y = np.array([100,10,1,0.1,0.01,0.001])\n",
    "\n",
    "xx = np.array(list(range(1,600)))/100\n",
    "\n",
    "params, cv = curve_fit(monoExp, x, y, p0 = [100,2.5,5])\n",
    "print(params)\n",
    "a, c, d = params\n",
    "print(a)\n",
    "print(c)\n",
    "print(d)\n",
    "\n",
    "predict_y = monoExp(xx,a,c,d) \n",
    "\n",
    "plt.plot(x,y,'x')\n",
    "plt.plot(xx, predict_y)\n"
   ]
  },
  {
   "cell_type": "markdown",
   "id": "2d6e0522-eb52-4eba-a9cb-7a97f344cb7d",
   "metadata": {},
   "source": [
    "## Fitting to power function\n",
    "\n",
    "Same data, fit to general form $ y = a^{-cx} + d $"
   ]
  },
  {
   "cell_type": "code",
   "execution_count": 33,
   "id": "5ddf2c32-c392-493f-8836-2575e859bc1f",
   "metadata": {},
   "outputs": [
    {
     "name": "stdout",
     "output_type": "stream",
     "text": [
      "[1.6912563  1.1337438  2.29049934]\n",
      "1.6912562981384822\n",
      "1.1337437969549184\n",
      "2.2904993394159954\n"
     ]
    },
    {
     "data": {
      "text/plain": [
       "[<matplotlib.lines.Line2D at 0x237b76720a0>]"
      ]
     },
     "execution_count": 33,
     "metadata": {},
     "output_type": "execute_result"
    },
    {
     "data": {
      "image/png": "[encoded data removed]",
      "text/plain": [
       "<Figure size 432x288 with 1 Axes>"
      ]
     },
     "metadata": {
      "needs_background": "light"
     },
     "output_type": "display_data"
    }
   ],
   "source": [
    "def power(ex, a, c, d):\n",
    "    return  a**(c*ex)+d\n",
    "    \n",
    "x = np.array([1.0,2,3,4,5,6])\n",
    "y = np.array([1,4,9,16,25,36])\n",
    "\n",
    "xx = np.array(list(range(1,600)))/100\n",
    "\n",
    "params, cv = curve_fit(power, x, y, p0 = [1,1,1], maxfev=8000)\n",
    "print(params)\n",
    "a, c, d = params\n",
    "print(a)\n",
    "print(c)\n",
    "print(d)\n",
    "\n",
    "predict_y = power(xx,a,c,d) \n",
    "\n",
    "plt.plot(x,y,'x')\n",
    "plt.plot(xx, predict_y)\n"
   ]
  },
  {
   "cell_type": "markdown",
   "id": "615e56ba-9aa9-459c-9f3d-1facd47576d2",
   "metadata": {},
   "source": [
    "## log fit\n",
    "\n",
    "Fit to general equation $ y = - a \\times log(bx) + c $"
   ]
  },
  {
   "cell_type": "code",
   "execution_count": 42,
   "id": "ae4935b0-8e2a-4548-b078-3ca5f0a78498",
   "metadata": {},
   "outputs": [
    {
     "name": "stdout",
     "output_type": "stream",
     "text": [
      "[1.         1.00000001 3.        ]\n",
      "1.0\n",
      "1.0000000081668696\n",
      "3.0000000035468264\n"
     ]
    },
    {
     "data": {
      "text/plain": [
       "[<matplotlib.lines.Line2D at 0x237b7c3fe20>]"
      ]
     },
     "execution_count": 42,
     "metadata": {},
     "output_type": "execute_result"
    },
    {
     "data": {
      "image/png": "[encoded data removed]",
      "text/plain": [
       "<Figure size 432x288 with 1 Axes>"
      ]
     },
     "metadata": {
      "needs_background": "light"
     },
     "output_type": "display_data"
    }
   ],
   "source": [
    "def log(ex, a, c, d):\n",
    "    return  -a*np.log10(c*ex) + d\n",
    "\n",
    "x = np.array([100,10,1,0.1,0.01,0.001])    \n",
    "y = np.array([1.0,2,3,4,5,6])\n",
    "\n",
    "\n",
    "xx = np.array(list(range(1,100000)))/1000\n",
    "\n",
    "params, cv = curve_fit(log, x, y, p0 = [1,1,1])\n",
    "print(params)\n",
    "a, c, d = params\n",
    "print(a)\n",
    "print(c)\n",
    "print(d)\n",
    "\n",
    "predict_y = log(xx,a,c,d) \n",
    "\n",
    "plt.plot(x,y,'x')\n",
    "plt.plot(xx, predict_y)\n"
   ]
  },
  {
   "cell_type": "code",
   "execution_count": null,
   "id": "556379aa-6e76-4fd5-8797-ac03e873ee76",
   "metadata": {},
   "outputs": [],
   "source": []
  }
 ],
 "metadata": {
  "kernelspec": {
   "display_name": "Python 3 (ipykernel)",
   "language": "python",
   "name": "python3"
  },
  "language_info": {
   "codemirror_mode": {
    "name": "ipython",
    "version": 3
   },
   "file_extension": ".py",
   "mimetype": "text/x-python",
   "name": "python",
   "nbconvert_exporter": "python",
   "pygments_lexer": "ipython3",
   "version": "3.9.12"
  }
 },
 "nbformat": 4,
 "nbformat_minor": 5
}
