{
 "cells": [
  {
   "cell_type": "markdown",
   "id": "8848a91c-195c-449a-94b4-eda363751d99",
   "metadata": {},
   "source": [
    "# HPLC determination of NSAID and Caffiene Concentrations in over-the-counter medications\n",
    "\n",
    "Use this notebook to calculate your unknown concentrations from your HPLC day 2 day.\n",
    "\n",
    "## The external calibration method\n",
    "\n",
    "We have used this method extensively before. Re-use code from previous experiments to graph external calibration curves for each substance and determine the concentration in the unknown soltions. Be sure to include error on all values. Don't forget to estimate LOD and LOQ for each analyte!\n"
   ]
  },
  {
   "cell_type": "code",
   "execution_count": null,
   "id": "9703076a-805f-4fee-ac8e-f2727cea390a",
   "metadata": {},
   "outputs": [],
   "source": [
    "# External Calibration \n",
    "\n",
    "#\n"
   ]
  },
  {
   "cell_type": "markdown",
   "id": "a6d84c13-eba2-41c8-a196-78e23044fbc2",
   "metadata": {},
   "source": [
    "## The standard addition method\n",
    "\n",
    "The standard addition method is used when instrument drift may cause variablity from sample to sample. We use the following equation to consider standard addition:\n",
    "\n",
    "$$ \\frac{A_x}{[X]} = {F}\\frac{A_s}{[S]} $$\n",
    "\n",
    "Where Ax is the signal from an analyte, compound x, with concentration [X]. As is the signal from the internal Standard, with concentration [S]. F is the response factor. In order to use this equation to determine an unknown, first, a known standard solution with analyte and internal standard is needed, so that we can solve for F. \n",
    "\n",
    "<b> NOTE </b> In this experiment, how many response factors you need in order to have one for each of your unknowns?\n",
    "\n"
   ]
  },
  {
   "cell_type": "code",
   "execution_count": null,
   "id": "8f123f6a-7ad4-441c-9792-d0ed135e53f9",
   "metadata": {},
   "outputs": [],
   "source": [
    "# Use your standard data to solve for F\n",
    "\n",
    "\n"
   ]
  },
  {
   "cell_type": "markdown",
   "id": "0ec85642-0cf6-4b7e-86e9-9a4ba8565aa6",
   "metadata": {},
   "source": [
    "### Putting your response factors to work\n",
    "\n",
    "Once you have a response factor (F) describing the relationship between your internal standard and an unknown compound, you can then solve for unknown sample concentrations. Use the same equation, but now solve for [X]. Finish these calculations for each unknown."
   ]
  },
  {
   "cell_type": "code",
   "execution_count": null,
   "id": "e2215b2a-709b-40ee-9c27-f4f053367b9a",
   "metadata": {},
   "outputs": [],
   "source": [
    "# Solve for your unknown analytes\n",
    "\n",
    "\n",
    "\n"
   ]
  },
  {
   "cell_type": "markdown",
   "id": "f2e17c26-3126-4c9c-84ab-94546213f298",
   "metadata": {},
   "source": [
    "## Question 1\n",
    "\n",
    "1. Did these methods give you the same answer?\n",
    "\n",
    "Re-use code from previous labs to answer this question. Consider, how do we compare two measured values? What error values may be used here in place of standard deviations, if they are not available?\n"
   ]
  },
  {
   "cell_type": "code",
   "execution_count": null,
   "id": "737807ad-0abe-4637-a4a7-0259e3d4113c",
   "metadata": {},
   "outputs": [],
   "source": []
  },
  {
   "cell_type": "markdown",
   "id": "6e016706-146c-4aaf-81dc-aa815ddfe01f",
   "metadata": {},
   "source": [
    "## Question 2 & 3\n",
    "\n",
    "2. Did the external calibration method give an answer that matches the manufacturers' reported values?\n",
    "3. Did the internal standard method give an answer that matches the manufacturers' reported values?\n",
    "\n",
    "Re-use code from previous labs to answer this question. Consider, how do we compare a measured value to a given value? What error values may be used here in place of standard deviations, if they are not available?\n"
   ]
  },
  {
   "cell_type": "code",
   "execution_count": null,
   "id": "1fab02a4-3e58-4e8a-a268-b291f7bffa39",
   "metadata": {},
   "outputs": [],
   "source": []
  },
  {
   "cell_type": "markdown",
   "id": "89854838-2332-45c0-8d26-8b3eb8073231",
   "metadata": {},
   "source": [
    "## Conclusion\n",
    "\n",
    "Reflect on the results of this lab. Summarize the key results, and consider whether or not we met the goals of the lab, and commend on which calibration method you think performed best, and why."
   ]
  },
  {
   "cell_type": "code",
   "execution_count": null,
   "id": "7a8a091d-d1ae-4ea8-95fc-25fb88655a97",
   "metadata": {},
   "outputs": [],
   "source": []
  }
 ],
 "metadata": {
  "kernelspec": {
   "display_name": "Python 3 (ipykernel)",
   "language": "python",
   "name": "python3"
  },
  "language_info": {
   "codemirror_mode": {
    "name": "ipython",
    "version": 3
   },
   "file_extension": ".py",
   "mimetype": "text/x-python",
   "name": "python",
   "nbconvert_exporter": "python",
   "pygments_lexer": "ipython3",
   "version": "3.9.12"
  }
 },
 "nbformat": 4,
 "nbformat_minor": 5
}
