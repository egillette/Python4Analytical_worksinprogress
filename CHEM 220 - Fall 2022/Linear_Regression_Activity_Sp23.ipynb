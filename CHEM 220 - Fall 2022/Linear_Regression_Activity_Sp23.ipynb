{
 "cells": [
  {
   "cell_type": "markdown",
   "metadata": {
    "id": "3J5rybTe1jU_"
   },
   "source": [
    "# Working with linear regressions in Python\n",
    "\n",
    "In experiment 1, you say a short version of this, where we plotted some data and got the equation of a line! However, we'd like to be able to do some more sophisticated data analysis when working with linear regressions. Today we're going to work with some sample data and take a look at how to think seriously about error in a real experiment!\n",
    "\n",
    "We have sample data collected for the following known concentrations, over three trials:\n",
    "0.00 mM, 9.36 mM, 18.72 mM, 28.08 mM, 37.44 mM, 44.54 mM\n",
    "\n",
    "Trial 1: 0.000, 0.092, 0.182, 0.243, 0.325, 0.410\n",
    " \n",
    "Trial 2: 0.000, 0.081, 0.177, 0.249, 0.37,  0.383\n",
    " \n",
    "Trial 3: 0.000, 0.088, 0.169, 0.233, 0.310, 0.396\n",
    "\n",
    "This data is saved in a file called \"drylabdata.csv\" Be sure you have that file downloaded onto your computer!\n",
    "  \n",
    "We also measured an unknown solution which produced the following absorbance values:\n",
    "\n",
    "* 0.273\n",
    "* 0.270\n",
    "* 0.269\n",
    "        \n",
    "      \n",
    "Think about what you need to do to turn this data into a useful calibration curve to determine the concentration of the unknown. In words, write out a plan for everything you need to do here (note, how are you going to handle the fact that we have multiple measurements for each standard solution?)\n",
    "\n",
    "\n",
    "\n",
    "\n",
    "\n",
    "\n",
    "\n",
    "\n",
    "\n",
    "After you have brainstormed a plan, move on to the code:"
   ]
  },
  {
   "cell_type": "code",
   "execution_count": 3,
   "metadata": {
    "colab": {
     "base_uri": "https://localhost:8080/"
    },
    "executionInfo": {
     "elapsed": 816,
     "status": "ok",
     "timestamp": 1634761169947,
     "user": {
      "displayName": "Eleanor Gillette",
      "photoUrl": "https://lh3.googleusercontent.com/a-/AOh14GiZEspyaTthycww-jlUqHhvmPXpr9WvbR1BCm1M=s64",
      "userId": "15008446255861299844"
     },
     "user_tz": 420
    },
    "id": "NGXL2GGO1jVD",
    "outputId": "b7cc1558-0e4a-462e-91d8-218849873bcd"
   },
   "outputs": [
    {
     "name": "stdout",
     "output_type": "stream",
     "text": [
      "[[0.    0.092 0.182 0.243 0.325 0.41 ]\n",
      " [0.    0.081 0.177 0.249 0.37  0.383]\n",
      " [0.    0.088 0.169 0.233 0.31  0.396]]\n"
     ]
    }
   ],
   "source": [
    "# we will often import a number of extra packages into python. These are just a the ones we need today:\n",
    "import math\n",
    "import matplotlib.pyplot as plt\n",
    "import numpy as np\n",
    "import scipy.stats as stats\n",
    "\n",
    "\n",
    "# The first thing you're likely to need is to turn all of those replicate values into averages, and compile those averages into a single array\n",
    "data = np.genfromtxt('drylabdata.csv', dtype=float, delimiter=',', names=None) \n",
    "\n",
    "print(data)\n",
    "\n",
    "# Note the format here; each row is a trial, each column is a different data set. "
   ]
  },
  {
   "cell_type": "markdown",
   "metadata": {
    "id": "Lq8vYAoJ1jVF"
   },
   "source": [
    "## Plotting a standard curve when replicate data was collected\n",
    "\n",
    "Hopefully you realized that you probably need to take the average of the three trials here before you combine all of your data!\n",
    "\n",
    "This is something you've done before, but to avoid having to type everything out six times to cover all of our trials, we're going to automate this process with a for loop!\n",
    "\n",
    "We might also want to have some idea about the precision of those values. Run this code once without any changes and think about how it's working! Then, add new code inside the for loop to produce a second array which has the standard deviations in it for each set of standards"
   ]
  },
  {
   "cell_type": "code",
   "execution_count": 9,
   "metadata": {
    "id": "pukfYvYa1jVG"
   },
   "outputs": [
    {
     "name": "stdout",
     "output_type": "stream",
     "text": [
      "0.0\n",
      "[0.         0.087      0.176      0.24166667 0.335      0.39633333]\n",
      "[0.         0.00454606 0.00535413 0.00659966 0.0254951  0.01102522]\n"
     ]
    }
   ],
   "source": [
    "# take the average of the blank, so we can subtract it from each data point\n",
    "blank_mean = np.mean(data[:,0])\n",
    "print(blank_mean)\n",
    "\n",
    "absorbance = []\n",
    "std =[]\n",
    "columns = data.shape[1]\n",
    "\n",
    "for x in range(columns):\n",
    "    # here we calculate the average of each column. \n",
    "    \n",
    "    average = np.mean(data[:,x])\n",
    "    absorbance.append (average)\n",
    "    \n",
    "    #calculate the standard deviation of each column\n",
    "    std_temp = np.std(data[:,x]) \n",
    "    std.append (std_temp)\n",
    "    \n",
    "    \n",
    "    \n",
    "# here i'm just converting standard deviation into a numpy array to make our lives easier later\n",
    "# the append command as we use it here only works on regular lists, not numpy arrays, which is something to be aware of.\n",
    "std = np.array(std)  \n",
    "\n",
    "# but numpy arrays are way easier to do simple math with; say to 'correct' all of our absorbance values by subtracting the blank!\n",
    "absorbance = np.array(absorbance) -  blank_mean\n",
    "\n",
    "\n",
    "\n",
    "# take a look at your reported values\n",
    "print(absorbance)\n",
    "print (std)"
   ]
  },
  {
   "cell_type": "code",
   "execution_count": 10,
   "metadata": {
    "id": "btqvY4Pv1jVG"
   },
   "outputs": [
    {
     "data": {
      "text/plain": [
       "Text(0, 0.5, 'happiness (are there units here too?)')"
      ]
     },
     "execution_count": 10,
     "metadata": {},
     "output_type": "execute_result"
    },
    {
     "data": {
      "image/png": "[encoded data removed]",
      "text/plain": [
       "<Figure size 432x288 with 1 Axes>"
      ]
     },
     "metadata": {
      "needs_background": "light"
     },
     "output_type": "display_data"
    }
   ],
   "source": [
    "# We also need the concentration values which correspond to our data, to use as our x-axis values.\n",
    "# For now, we can record them directly from the data\n",
    "concentration = np.array([0, 9.36, 18.72, 28.08, 37.44, 44.54]) #mM \n",
    "\n",
    "\n",
    "# put together a graph using the plot command\n",
    "# in 'plot', first comes the x axis, then the y, then 'ro' plots our points as red circles. \n",
    "\n",
    "\n",
    "\n",
    "plt.plot(concentration, absorbance, 'bx')\n",
    "\n",
    "# Add reasonable labels on the x and y axis, always including units.\n",
    "plt.xlabel(\"tacos (units)\")\n",
    "plt.ylabel(\"happiness (are there units here too?)\")\n",
    "\n"
   ]
  },
  {
   "cell_type": "markdown",
   "metadata": {
    "id": "s_nPcFYr1jVH"
   },
   "source": [
    "Now you should see a figure above with red dots making the data points, along with some very unhelful axis labels. Update the axis labels to something that is actually properly descriptive for this data, and then rerun this code now that you have updated it.\n"
   ]
  },
  {
   "cell_type": "markdown",
   "metadata": {
    "id": "TsBwS2r71jVI"
   },
   "source": [
    "## Adding error bars to our plot\n",
    "\n",
    "We might consider using the standard deviation as a way to communicate some uncertainty in each of these values. We can do that by adding error bars to the plot!\n",
    "\n",
    "Standard deviation is a very blunt instrument for expressing error in this case, but it is better than nothing. Let's try that first."
   ]
  },
  {
   "cell_type": "code",
   "execution_count": 11,
   "metadata": {
    "id": "P45K3uYF1jVJ"
   },
   "outputs": [
    {
     "data": {
      "text/plain": [
       "Text(0, 0.5, 'average absorbance')"
      ]
     },
     "execution_count": 11,
     "metadata": {},
     "output_type": "execute_result"
    },
    {
     "data": {
      "image/png": "[encoded data removed]",
      "text/plain": [
       "<Figure size 432x288 with 1 Axes>"
      ]
     },
     "metadata": {
      "needs_background": "light"
     },
     "output_type": "display_data"
    }
   ],
   "source": [
    "plt.errorbar(concentration, absorbance, yerr = std, xerr = None, fmt = 'r.')\n",
    "plt.xlabel(\"concentration (mM)\")\n",
    "plt.ylabel(\"average absorbance\")\n",
    "\n",
    "#plt.savefig(\"my first python graph_with error bars.png\")"
   ]
  },
  {
   "cell_type": "markdown",
   "metadata": {
    "id": "CkZFKJgH1jVJ"
   },
   "source": [
    " It is best to use the confidence interval for error bars instead! Remember, we just need to multiple our standard deviation by a Student's t constant, and divide by the square root of n. Here, let's show error bars at the 95 % confidence interval"
   ]
  },
  {
   "cell_type": "code",
   "execution_count": 12,
   "metadata": {
    "id": "5oaVzwdR1jVK"
   },
   "outputs": [
    {
     "data": {
      "text/plain": [
       "Text(0, 0.5, 'average absorbance')"
      ]
     },
     "execution_count": 12,
     "metadata": {},
     "output_type": "execute_result"
    },
    {
     "data": {
      "image/png": "[encoded data removed]",
      "text/plain": [
       "<Figure size 432x288 with 1 Axes>"
      ]
     },
     "metadata": {
      "needs_background": "light"
     },
     "output_type": "display_data"
    }
   ],
   "source": [
    "\n",
    "# use c to set the confidence you want (90 % is 0.90, for example)\n",
    "c = 0.95\n",
    "alpha = 1-c\n",
    "# have you seen any command that might give you n without just inputting a number? To make your code more general for different data sets?\n",
    "n = 3\n",
    "\n",
    "t = stats.t.ppf(1-alpha/2, n-1)\n",
    "\n",
    "CI_95 = std*(t/math.sqrt(n))\n",
    "\n",
    "plt.errorbar(concentration, absorbance, yerr = CI_95, xerr = None, fmt = 'r.')\n",
    "plt.xlabel(\"concentration (mM)\")\n",
    "plt.ylabel(\"average absorbance\")\n",
    "\n",
    "#fig.savefig(\"CI95_errorbars.png\")"
   ]
  },
  {
   "cell_type": "markdown",
   "metadata": {
    "id": "-14oyQlF1jVK"
   },
   "source": [
    "## External Calibration Curve\n",
    "This type of plot is called an <b> external calibration curve </b> in analytical chemistry, because we can take some other (external) data point, for which we have, say, a density measurement, and use this plot to determine that unknown sample's concentration. You have seen this before in general chemistry (for example, you have plotted absorbance vs. concentration Ni in 152L)\n",
    "\n",
    "\n",
    "To get the most out of an external calibration curve, it's helpful to have the equation of the line, in <i> y = mx + b </i> format. That allows you to quickly and easily do the math to determine any <i> x </i> (here, concentration in mole/liter) for any measured <i> y </i> (here, density). You may know how to do this in Excel, or on your graphing calculator. Let's take a look at how it works in Python!"
   ]
  },
  {
   "cell_type": "code",
   "execution_count": 13,
   "metadata": {
    "id": "2BENOzyd1jVK"
   },
   "outputs": [
    {
     "name": "stdout",
     "output_type": "stream",
     "text": [
      "the equation of the line is y = 0.008824245297230318x + 0.002836459106767386 and its R-squared value is 0.9992935841235739\n"
     ]
    }
   ],
   "source": [
    "# the linear regression function in the scipy stats module returns 5 values: slope, intercept, R-squared and then two uncertainty values p and s_m\n",
    "# we'll ignore the last two for the moment, since all we really need right now is the equation of the line\n",
    "m, b, R2, p, s_m = stats.linregress(concentration, absorbance)\n",
    "\n",
    "print (F'the equation of the line is y = {m}x + {b} and its R-squared value is {R2}')\n",
    "\n",
    "\n"
   ]
  },
  {
   "cell_type": "markdown",
   "metadata": {
    "id": "kfaFmKjY1jVL"
   },
   "source": [
    "## Adding the 'best fit line' to your graph\n",
    "\n",
    "It's always a nice reality check to see the line plotted along with your data. In this case, we can think about this line as a model to help us make a prediction about our data. So we can plug in a range of concentration values, and we so we can plot the y values that our y = mx + b model predicts, and see how well it matches the real data."
   ]
  },
  {
   "cell_type": "code",
   "execution_count": 14,
   "metadata": {
    "id": "gBGqSN6a1jVL"
   },
   "outputs": [
    {
     "data": {
      "text/plain": [
       "Text(0, 0.5, 'average absorbance')"
      ]
     },
     "execution_count": 14,
     "metadata": {},
     "output_type": "execute_result"
    },
    {
     "data": {
      "image/png": "[encoded data removed]",
      "text/plain": [
       "<Figure size 432x288 with 1 Axes>"
      ]
     },
     "metadata": {
      "needs_background": "light"
     },
     "output_type": "display_data"
    }
   ],
   "source": [
    "# Use our predicted model\n",
    "predict_y = (concentration*m)+b\n",
    "# Plot the predicted data (note if we don't ask for a specific marker style, we'll just get a line)\n",
    "plt.plot(concentration,predict_y)\n",
    "\n",
    "#add the real data to the plot, just like we did before:\n",
    "plt.errorbar(concentration, absorbance, yerr = CI_95, xerr = None, fmt = 'r.')\n",
    "plt.xlabel(\"concentration (mM)\")\n",
    "plt.ylabel(\"average absorbance\")\n",
    "\n"
   ]
  },
  {
   "cell_type": "markdown",
   "metadata": {
    "id": "Fd0S4Fjr1jVL"
   },
   "source": [
    "## Solve for your unknown\n",
    "\n",
    "Using the equation above, calculate your unknown concentration by hand first. Then complete the code below to calculate the unknown concentration. Make sure your hand-written calculation and your python code are producing the same result!"
   ]
  },
  {
   "cell_type": "code",
   "execution_count": 15,
   "metadata": {
    "id": "JwwTZZ3v1jVL"
   },
   "outputs": [
    {
     "name": "stdout",
     "output_type": "stream",
     "text": [
      "the concentration of the unknown is 30.351627650691402 mM\n"
     ]
    }
   ],
   "source": [
    "#Add the absorbance of your unknown here:\n",
    "\n",
    "unknown = np.array([0.273,0.270,0.269])\n",
    "\n",
    "unknown_av = np.mean(unknown)\n",
    "\n",
    "unknown_std = np.std(unknown)\n",
    "\n",
    "# now using m, b and unknown_density, solve for unknown_concentration\n",
    "unknown_concentration = (unknown_av-b)/m\n",
    "\n",
    "print ('the concentration of the unknown is ' + str(unknown_concentration) + ' mM')\n",
    "\n",
    "#do your values match? If not, check your math!"
   ]
  },
  {
   "cell_type": "markdown",
   "metadata": {
    "id": "LV95Fsq-1jVM"
   },
   "source": [
    "## Uncertainty in a linear regression\n",
    "\n",
    "We have an $R^{2}$ value which gives us an idea how well our predicted line is able to fit our real data, but it's hard to turn that value into a real uncertainty value on our unknown calcultion. Ideally, we'd like an uncertainty in the same units are our final answer here (so in this case, in mM). In order to do that, we need to think about what error actually means in a linear regression.\n",
    "\n",
    "You read a lot of detail about how the matrix math works to produce that linear regression, and along with it, error values in the slope and intercept values produced. For whatever reason, most of the python linear regression packages just return the error in the slope. This is useful if you're main goal is to use a linear regression to determine a relationship between your variables, but in our case, we really need the error in the y values being predicted. That is the value we can transform into an x value error!\n",
    "\n",
    "Think about what error on the y-value means. You're making a prediction, so our questions is how close is that prediction to the real value?\n",
    "\n",
    "First, we'll think about the deviation of each measured y value ($y_{i}$) from the predicted y value (where $ y= mx+b $):\n",
    "\n",
    "$$ d_{i} = y_{i} - (m x_{i} + b) $$\n",
    "\n",
    "Then we want to compile those deviations for every point we have available, to turn them into an overall assessment of the standard deviation of the y values:\n",
    "\n",
    "$$ s_{y}={\\sqrt {\\frac {\\sum (d_{i})^{2}}{n-2}}} $$"
   ]
  },
  {
   "cell_type": "code",
   "execution_count": 16,
   "metadata": {
    "id": "6em766Yx1jVM"
   },
   "outputs": [
    {
     "name": "stdout",
     "output_type": "stream",
     "text": [
      "the y error predicted by this linear regression model is 0.006278304548066312 arbirtrary absorbance units\n"
     ]
    }
   ],
   "source": [
    "# Manually calculate error in y \n",
    "# standard error in most python packages is the error in the slope, rather than error in the y-predicitions of the model\n",
    "\n",
    "\n",
    "sum_square = 0\n",
    "\n",
    "n = len(absorbance)\n",
    "\n",
    "## so here, for every single point in our array, we're plugging in concentration, and comparing it to the actual measured absorbance\n",
    "# Again, note that our count variable does double duty; keeping track of the while loop, and calling the right array value! \n",
    "\n",
    "for x in range(n):\n",
    "    sum_square = sum_square + ((absorbance[x]-(m*concentration[x])-b)**2)\n",
    "    \n",
    "    \n",
    "y_err = math.sqrt(sum_square/(n-2))\n",
    "print (F\"the y error predicted by this linear regression model is {y_err} arbirtrary absorbance units\")\n"
   ]
  },
  {
   "cell_type": "markdown",
   "metadata": {
    "id": "hQqmmWsL1jVN"
   },
   "source": [
    "### Standard error in the intercept\n",
    "\n",
    "Since the linear regression command in the stats module gives us the uncertainty in the slope, and we just calculated the uncertainty in the y values, we can take a shortcut to the uncertainty in the intercept, which avoids having to actually do any matrix math here. Note that\n",
    "\n",
    "$$ u_{m}^{2} = \\frac{s_{y}^{2}n}{D} $$\n",
    "\n",
    "Can be rewritten as $$ D = \\frac{s_{y}^{2}n}{u_{m}^{2}} $$\n",
    "\n",
    "So that we can write $ u_{b}^{2} $ in terms of values we have already calculated!\n",
    "$$ u_{b}^{2} = \\frac{s_{y}^{2}\\sum{x_{i}^{2}}}{D} = \\frac{\\sum{x_{i}^{2}}u_{m}^{2}}{n} $$\n",
    "\n",
    "Once you have all of these uncertainty values, be sure to print out equation of the line, with full uncertainty and correct sig figs!\n"
   ]
  },
  {
   "cell_type": "code",
   "execution_count": 24,
   "metadata": {
    "id": "xsn_ylff1jVN"
   },
   "outputs": [
    {
     "name": "stdout",
     "output_type": "stream",
     "text": [
      "error in the slope is 0.00016592926491514943\n",
      "error in the intercept is 0.004600411736733409\n"
     ]
    }
   ],
   "source": [
    "s_b = math.sqrt((sum(concentration**2)*(s_m**2))/(len(concentration)))\n",
    "\n",
    "print(F'error in the slope is {s_m}')\n",
    "print(F\"error in the intercept is {s_b}\")\n",
    "\n",
    "#print the full equation of the line, with correct sig figs here (i.e y +/- yerror = etc. etc.)"
   ]
  },
  {
   "cell_type": "markdown",
   "metadata": {
    "id": "ffYPcvVm1jVO"
   },
   "source": [
    "### Convert a y value into an uncertainty on our calculated x value\n",
    "\n",
    "Now we have all of the information we need to propogate error through the calibration curve. The equation needed is shown below:\n",
    "\n",
    "$$ s_{x}= \\frac{s_{y}}{\\mid{m}\\mid}{\\sqrt {\\frac {1}{k} + \\frac {1}{n} + \\frac {(y-\\bar{y})^{2}}{m^{2}\\sum (x-\\bar{x})^{2}}}} $$\n",
    "\n",
    "You now have all of these variables:  m is the slope, k is the number of replicate measurements in your unknown, n is the number of points in your calibration curve, and x is all of your calibration curve x values, either individually ($ x_{i} $) or the average of those values $ (\\bar{x} ) $ \n",
    "\n",
    "$\\bar{y}$ is the average of all of the y values in your calibration curve, and y is the unknown you measured. Note that this means that the closer your measured unknown is to the center of your calibration curve, the smaller that value will be!\n",
    "\n",
    "Now we have to set up some math to make this happen. I'd strongly suggest breaking it down into components!"
   ]
  },
  {
   "cell_type": "code",
   "execution_count": 17,
   "metadata": {
    "id": "X7s0hayk1jVO"
   },
   "outputs": [
    {
     "ename": "SyntaxError",
     "evalue": "invalid syntax (395123253.py, line 24)",
     "output_type": "error",
     "traceback": [
      "\u001b[1;36m  Input \u001b[1;32mIn [17]\u001b[1;36m\u001b[0m\n\u001b[1;33m    ss =\u001b[0m\n\u001b[1;37m         ^\u001b[0m\n\u001b[1;31mSyntaxError\u001b[0m\u001b[1;31m:\u001b[0m invalid syntax\n"
     ]
    }
   ],
   "source": [
    "# first, s_y/m\n",
    "\n",
    "var1 = y_err/m\n",
    "\n",
    "# then, lets get all of the pieces inside the square root\n",
    "\n",
    "# here we're using the length command to just check how long our unknown array was, and how long our calibration curve x value array was\n",
    "inv_k = 1/len(unknown)\n",
    "inv_n = 1/len(concentration)\n",
    "\n",
    "# now let's get the two averages\n",
    "y_bar = np.mean(absorbance)\n",
    "x_bar = np.mean(concentration)\n",
    "\n",
    "# We'll need a loop to handle the sum\n",
    "\n",
    "# ss is where we'll save the sum of squares\n",
    "\n",
    "ss = 0\n",
    "\n",
    "# you'll need a fpr loop to compute the sum, like you've seen before\n",
    "# Can you complete the for loop? \n",
    "for x in range(len(unknown)):\n",
    "    ss = \n",
    "    \n",
    "\n",
    "\n",
    "# now calculate the whole last component\n",
    "\n",
    "var4 = ((unknown_av-y_bar)**2)/((m**2)*ss)\n",
    "\n",
    "\n",
    "\n",
    "s_x =  var1*math.sqrt(inv_k+inv_n+var4)\n",
    "\n",
    "# always report uncertainy values with their accompanying measured values\n",
    "print (F'the concentration of the unknown is ' + str(unknown_concentration) + ' mM +/- ' + str(s_x) + 'mM')\n",
    "\n",
    "#report a relative error instead of absolute\n",
    "\n",
    "s_x_rel = (s_x/unknown_concentration) * 100\n",
    "\n",
    "print ('the concentration of the unknown is ' + str(unknown_concentration) + ' mM +/- ' + str(s_x_rel) + '%')"
   ]
  },
  {
   "cell_type": "markdown",
   "metadata": {
    "id": "i9F11dfB1jVO"
   },
   "source": [
    "## Conclusion\n",
    "\n",
    "You should now have working code for several key things:\n",
    "1. Graphing external calibration data correctly - including descriptive axis labels, line of best fit and error bars\n",
    "2. Linear regression - determination of the line of best fit, along with detailed error analysis (R squared values, as well as error on all variables involved in the linear regression. A linear regression is NOT complete without error in slope, intercept and y predictions.\n",
    "3. Solving for unknown concentrations with appropraite error. You now should be able to report a final measured value with a reasonable error on that x value. Be sure to think carefully about what these numbers mean!\n",
    "\n",
    "Make sure this code is working and that you understand which parts are doing what. Submit this code for today's dry lab, and start working to adapt this code for use with your ICP-OES data!\n"
   ]
  },
  {
   "cell_type": "code",
   "execution_count": null,
   "metadata": {
    "id": "WT_AfLSc1jVO"
   },
   "outputs": [],
   "source": []
  }
 ],
 "metadata": {
  "colab": {
   "name": "Linear_Regression_Activity_Fall21.ipynb",
   "provenance": []
  },
  "kernelspec": {
   "display_name": "Python 3 (ipykernel)",
   "language": "python",
   "name": "python3"
  },
  "language_info": {
   "codemirror_mode": {
    "name": "ipython",
    "version": 3
   },
   "file_extension": ".py",
   "mimetype": "text/x-python",
   "name": "python",
   "nbconvert_exporter": "python",
   "pygments_lexer": "ipython3",
   "version": "3.9.12"
  }
 },
 "nbformat": 4,
 "nbformat_minor": 4
}
