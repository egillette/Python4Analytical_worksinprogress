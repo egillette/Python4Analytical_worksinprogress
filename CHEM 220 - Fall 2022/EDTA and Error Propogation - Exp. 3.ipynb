{
 "cells": [
  {
   "cell_type": "markdown",
   "metadata": {},
   "source": [
    "# Experiment 3 - EDTA titrations\n",
    "\n",
    "In lab, you will have calculated by hand your lead concentrations based on your titration trials. Record your average concentration and standard deviations here, for reference\n",
    "\n",
    "DI water trial average and std:\n",
    "\n",
    "Seawater trials (if applicable):\n",
    "\n",
    "\n",
    "You will refer back to this data at the end of the report\n",
    "\n",
    "For the rest of this calculation, pick one trial of data (probably for a DI water) and stick with it, to carry through the error propagation process.\n"
   ]
  },
  {
   "cell_type": "markdown",
   "metadata": {},
   "source": [
    "# Error Propagation\n",
    "\n",
    "We know that the error on a measurement tool is typically given as it's tolerance, and the error on several repeated measurements can be given as a standard deviation, or a condfidence interval. But what do we do when a final answer in a calculation requires mathematical processing of multiple numbers, with multiple different types of error involved?\n",
    "\n",
    "Titrations are an excellent example of this challenge. If we hope to determine the concentration of an unknown by titration, what steps must we take? Imagine the titrations you did in experiment # 3 to determine the concentration of an unknown solution of Pb using EDTA. How many different meaured values had to be considered as part of that calculation?\n",
    "\n",
    "\n",
    "## Addition and Subtraction\n",
    "\n",
    "First let's just consider what you needed to get the final volume dispensed by the buret:\n",
    "\n",
    "1. Initial volume on the buret (+/- tolerance of the buret)\n",
    "2. Final volume on the buret (+/- tolerance of the buret)\n",
    "\n",
    "To get the total volume, you probably just subtracted:  $ V_{total} = V_{final} - V_{initial} $ so to propagate the error, we use the rules for addition and subtraction\n",
    "\n",
    "$$ error_{Vtotal} = \\sqrt { error_{Vfinal}^{2} + error_{Vinitial}^{2}} $$\n",
    "\n",
    "\n",
    "Be careful to note that this equation is absolute error, so it has the units of the measured value! This means if you convert the measured values into a different unit, be sure to convert the absolute error as well. For example, the tolerance on a 10 mL buret is +/- 0.02 mL or the tolerance on a 0.010 L buret is +/- 0.00002 L. Note however, that in relative terms, both of these tolerances are +/- 0.2 % if expressed as relative errors.\n",
    "\n",
    "Luckily, this is very simple math to do in Python, as long as we keep track of our units! Use comments to note units anywhere you're worried about forgetting them\n",
    "\n",
    "\n"
   ]
  },
  {
   "cell_type": "code",
   "execution_count": 1,
   "metadata": {
    "collapsed": true,
    "jupyter": {
     "outputs_hidden": true
    }
   },
   "outputs": [
    {
     "name": "stdout",
     "output_type": "stream",
     "text": [
      "the total volume was 8.110000000000001 mL +/- 0.0282842712474619  mL\n"
     ]
    }
   ],
   "source": [
    "import math\n",
    "\n",
    "# example volume subtraction\n",
    "\n",
    "V_initial = 0.04 #mL\n",
    "V_final = 8.15 #mL\n",
    "V_total = V_final - V_initial #mL\n",
    "\n",
    "# error for addition and subtraction\n",
    "# tolerance on a 10 mL buret in mL\n",
    "\n",
    "e_buret = 0.02 #mL\n",
    "\n",
    "e_final = math.sqrt((e_buret**2)+(e_buret**2)) #mL\n",
    "\n",
    "print (F\"the total volume was {V_total} mL +/- {e_final}  mL\")\n",
    "\n"
   ]
  },
  {
   "cell_type": "markdown",
   "metadata": {},
   "source": [
    "There are a few things you should consider about these values:\n",
    "\n",
    "1. What digit should you round the total volume to, based on the uncertainty?\n",
    "\n",
    "\n",
    "\n",
    "2. What digit would you have rounded that volume to, using the old sig. fig. rules you learned in gen chem?\n",
    "\n",
    "\n",
    "\n",
    "<i> This type of error propagation using instrument tolerance is essentially where those old sig. fig. rules came from! </i> \n",
    "\n",
    "3. Did you have to include the measured values anywhere in this calculation? In other words, would the absolute error be different for different trials of your titration? So why might we have chosen to use 50 mL burets instead of 10 mL burets for this titration?\n",
    "\n",
    "4. Look back at your standard deviations for each trial. Do they suggest more or less error than is calculated just considering the tolerance? What might that mean?\n",
    "\n",
    "\n",
    "\n"
   ]
  },
  {
   "cell_type": "markdown",
   "metadata": {},
   "source": [
    "## Multiplication and Division\n",
    "\n",
    "The other calculation that you probably did in lab was to work out your actual EDTA solution concentration, based on the actual mass your group measured, and the total volume of soltion that you made:\n",
    "\n",
    "$$ C_{EDTA} = \\frac{\\frac{mass_{EDTA}}{MM_{EDTA}}}{totalV_{EDTA}} $$\n",
    "\n",
    "\n",
    "This is a multiplication and division process, so we use a slightly different method to propagate the error:\n",
    "1. All errors in multiplication and division processes need to  be converted to relative error (i.e. the error as a fraction of the measured value)\n",
    "So for example, if you measured 0.0500 g on a balance with an absolute error of +/- 0.0001 g, the relative error is $ \\frac{0.0001 g}{0.0500 g} $\n",
    "2. Just like for addition and multiplication, errors are squared, added together, and then the square root is taken. Just note, below, all of our errors are now relative errors, so the output from the equation is also a relative error:\n",
    "\n",
    "$$ \\%error_{C} = \\sqrt{\\left({\\frac {error_{mass}}{mass_{EDTA}}}\\right)^{2} + \\left({\\frac {error_{VEDTA}}{V_{EDTA}}}\\right)^{2}}$$\n",
    "\n",
    "\n",
    "To convert from a relative error back to an absolute error, just multiply by your actual calculated concentration.\n",
    "\n",
    "<b> Note </b> Here we are neglecting the error in the molar mass. Although we could estimate it from errors on the periodic table, the uncertainty in atomic masses is so small as to be basically irrelevent for most normal analytical problems. So in this case, we'll treat molar mass like any other conversion factor, as if it has no uncertainty."
   ]
  },
  {
   "cell_type": "code",
   "execution_count": 3,
   "metadata": {
    "collapsed": true,
    "jupyter": {
     "outputs_hidden": true
    }
   },
   "outputs": [
    {
     "name": "stdout",
     "output_type": "stream",
     "text": [
      "The EDTA concentration is 0.0010606060606060605 M +/- 0.11211226217800867 %\n",
      "The EDTA concentration is 0.0010606060606060605 M +/- 1.189069447342516e-06 M\n"
     ]
    }
   ],
   "source": [
    "# error prop for multiplication and division\n",
    "MM_EDTA = 372.24 #g/mol\n",
    "\n",
    "#measured total volme, and error in the volumetric flask\n",
    "V_totalEDTA = 0.250 #L\n",
    "e_totalEDTA = 0.12/1000 #L, converted from mL as given in the reference tables\n",
    "\n",
    "# measured mass and error in the balance\n",
    "\n",
    "mass_EDTA = 0.0987 #g be sure to update this with your actual mass!\n",
    "e_balance = 0.0001 #g\n",
    "\n",
    "# relative error in the mass of EDTA\n",
    "re_mass = e_balance/mass_EDTA\n",
    "\n",
    "\n",
    "# calculate the concentration of EDTA\n",
    "\n",
    "C_EDTA = (mass_EDTA/MM_EDTA)/(V_totalEDTA) #mol/L, divide by 1000 to get L instead of mL\n",
    "\n",
    "# calculate the relative error in the concentration\n",
    "re_CEDTA = math.sqrt(((e_balance/mass_EDTA)**2) + ((e_totalEDTA/V_totalEDTA)**2))\n",
    "\n",
    "# convert that error back to an absolute error\n",
    "\n",
    "error_EDTA = re_CEDTA*C_EDTA # mol/L\n",
    "\n",
    "#note that because relative concentration is a fraction; if you multiply by 100, you can report it as a percentage!\n",
    "print (F'The EDTA concentration is {C_EDTA} M +/- {re_CEDTA*100} %')\n",
    "       \n",
    "#or we can report our concentration, with the absolute error, in M\n",
    "print (F'The EDTA concentration is {C_EDTA} M +/- {error_EDTA} M')\n",
    "\n",
    "#Edit these print statements to round to reasonable sig figs\n"
   ]
  },
  {
   "cell_type": "markdown",
   "metadata": {},
   "source": [
    "$$ C_{Pb} = \\frac{C_{EDTA} * V_{EDTA}} {V_{Pbsample}} $$\n",
    "\n",
    "Note that if you expect this to come out in standard concentration units (mol/L) , you must convert that total volume to L\n",
    "\n",
    "To propogate the error in this step, we must use the rules for multiplication and division. Luckily, since it's the same rule, we can do it all in one step. But all of the absolute errors must first be converted to relative errors:\n",
    "\n",
    "\n",
    "$$ \\%error_{C} = \\sqrt{\\left({\\frac {error_{CEDTA}}{C_{EDTA}}}\\right)^{2} + \\left({\\frac {error_{VEDTA}}{V_{EDTA}}}\\right)^{2}+ \\left({\\frac {error_{volumePBsample}}{volumePBsample}}\\right)^{2}}$$\n",
    "\n",
    "\n",
    "What are we missing, and what do we already know?\n",
    "1. Error in the Pb sample volume: What glassware did you use to make that measurement? What is it's tolerance?\n",
    "2. Error in the EDTA volume: What glassware did you use to deliver that volume? What is it's tolerance?\n",
    "3. Error in EDTA concentration: You just calculated that! \n",
    "\n",
    "Great, you're ready to go! Finish your error propagation here:"
   ]
  },
  {
   "cell_type": "code",
   "execution_count": null,
   "metadata": {
    "tags": []
   },
   "outputs": [],
   "source": [
    "# finish your error propagation\n",
    "\n",
    "\n",
    "\n",
    "\n",
    "\n",
    "\n",
    "\n",
    "\n",
    "\n",
    "\n",
    "\n",
    "# Be sure to write clear, correct print statements about what your lead concentration is, with appropraite relative and absolute error\n",
    "\n",
    "\n",
    "\n",
    "\n",
    "\n",
    "\n",
    "\n"
   ]
  },
  {
   "cell_type": "markdown",
   "metadata": {},
   "source": [
    "## Thinking strategically about error\n",
    "\n",
    "This process just produced a final error value for your calculated concentration, which is an improvement over an estimate based solely off of the standard deviation of your trials. This alone makes it worthwhile, but it's not the only reason its worth working through complete error propogation in this way.\n",
    "\n",
    "You can also use error propogation to think strategically about how best to reduce error in this experiment. Let's take a look at the relative error of each contribution to the total overall error:"
   ]
  },
  {
   "cell_type": "code",
   "execution_count": 8,
   "metadata": {
    "tags": []
   },
   "outputs": [
    {
     "name": "stdout",
     "output_type": "stream",
     "text": [
      "The error from the buret was 0.34875796852604063 %\n"
     ]
    }
   ],
   "source": [
    "# Write fancy print statements to display the relative errors of each measured value included in this calcaultion\n",
    "# example\n",
    "print(F'The error from the buret was {(e_final/V_total)*100} %')\n",
    "\n",
    "#add the next two contributions (concentration and volume of Pb sample)\n",
    "\n",
    "\n",
    "\n"
   ]
  },
  {
   "cell_type": "markdown",
   "metadata": {},
   "source": [
    "## Postlab questions:\n",
    "\n",
    "1. If you were applying for a small grant to improve this procedure, would you propose buying better volmetric flasks, buying better burets or buying better volmetric pipets?  If you could afford two of the three, which two would you propose? Be sure you can justify your choices using the data.\n",
    "2. Compare your propagated error with your average and standard deviation. Which method do you think gives a better representation of the actual experimental error?\n",
    "3. Consider your observations, and the details about EDTA titrations discussed in the prelecture video. Was this titration a good choice for seawater? What issues did you observe that might need to be corrected or improved if we were going to try to use this kind of titration in a sample like seawater?\n",
    "4. Write a brief conclusion: What were our goals, and did we meet them?\n",
    " \n"
   ]
  },
  {
   "cell_type": "code",
   "execution_count": null,
   "metadata": {
    "collapsed": true,
    "jupyter": {
     "outputs_hidden": true
    },
    "tags": []
   },
   "outputs": [],
   "source": []
  },
  {
   "cell_type": "code",
   "execution_count": null,
   "metadata": {
    "collapsed": true,
    "jupyter": {
     "outputs_hidden": true
    }
   },
   "outputs": [],
   "source": []
  }
 ],
 "metadata": {
  "kernelspec": {
   "display_name": "Python 3 (ipykernel)",
   "language": "python",
   "name": "python3"
  },
  "language_info": {
   "codemirror_mode": {
    "name": "ipython",
    "version": 3
   },
   "file_extension": ".py",
   "mimetype": "text/x-python",
   "name": "python",
   "nbconvert_exporter": "python",
   "pygments_lexer": "ipython3",
   "version": "3.9.12"
  }
 },
 "nbformat": 4,
 "nbformat_minor": 4
}
