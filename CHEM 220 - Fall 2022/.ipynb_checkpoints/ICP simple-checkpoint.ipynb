{
 "cells": [
  {
   "cell_type": "code",
   "execution_count": 2,
   "id": "4d0e33d2-d6bc-40a3-b4bb-ce710d9c6f2c",
   "metadata": {},
   "outputs": [
    {
     "name": "stdout",
     "output_type": "stream",
     "text": [
      "These are all the elements and wavelengths that appear in the data file ['Cu 327.395' 'Fe 238.204' 'Pb 220.353']\n",
      "These are all the standard intensities for each element [[44.8, 891.83, 5488.18, 12110.01, 24089.39, 46040.71, 69225.0, 91742.69, 113330.75, 283741.7], [30.2, 917.35, 6882.93, 17735.15, 34064.23, 66636.9, 99873.22, 132671.34, 165916.37, 413844.44], [15.67, 117.43, 684.97, 1441.86, 2723.92, 5485.97, 8028.08, 10632.38, 13402.44, 34284.95]]\n"
     ]
    }
   ],
   "source": [
    "# This is a strategy for importing data into lists so that we can use it!\n",
    "import numpy as np\n",
    "import scipy.stats as stats\n",
    "import pandas as pd\n",
    "import math\n",
    "# read the whole data file in:\n",
    "data = pd.read_csv(\"FA22_exp4.csv\", header = 6)\n",
    "\n",
    "\n",
    "# read all elements and wavelengths in the file:\n",
    "elements = data.Element.unique()\n",
    "print(F'These are all the elements and wavelengths that appear in the data file {elements}')\n",
    "\n",
    "standards =[]\n",
    "conc = []\n",
    "\n",
    "#slice by element - all standards data\n",
    "for x in elements:\n",
    "    temp = data[data.values == x]\n",
    "    temps = temp[temp.values == 'STD']\n",
    "    temps_Int = temps['Intensity'].tolist()\n",
    "    temps_conc = temps['Concentration'].tolist()\n",
    "    temps_conc = [float(j) for j in temps_conc]\n",
    "    standards.append (temps_Int)\n",
    "    conc.append(temps_conc)\n",
    "    \n",
    "#standards = np.array(standards, dtype = float)\n",
    "print(F'These are all the standard intensities for each element {standards}')\n",
    "#print (F'These are the concentrations for each element standard, as recorded in the file {conc}')\n",
    "                            \n",
    "sample = []\n",
    "#slice by element - all sample data\n",
    "for x in elements:\n",
    "    temp = data[data.values == x]\n",
    "    temps = temp[temp.values == 'Sample']\n",
    "    temps_Int = temps['Intensity'].tolist()\n",
    "    \n",
    "    sample.append (temps_Int)\n",
    "\n",
    "#print (sample)\n",
    "    "
   ]
  },
  {
   "cell_type": "code",
   "execution_count": 10,
   "id": "30872404-da8a-4b88-9916-91096cb6403e",
   "metadata": {},
   "outputs": [
    {
     "data": {
      "image/png": "[encoded data removed]",
      "text/plain": [
       "<Figure size 432x288 with 1 Axes>"
      ]
     },
     "metadata": {
      "needs_background": "light"
     },
     "output_type": "display_data"
    }
   ],
   "source": [
    "import matplotlib.pyplot as plt\n",
    "import itertools\n",
    "marker = itertools.cycle(('>', '+', 'o', '*')) \n",
    "x = np.array(conc)\n",
    "y = np.array(standards)\n",
    "\n",
    "for i in range(len(elements)):\n",
    "    plt.plot(x[i], y[i], marker = next(marker), linestyle='')\n",
    "plt.show()\n",
    "\n",
    "#plt.errorbar(x.T, y.T, yerr = None, xerr = None, fmt = 'r.')\n",
    "#plt.xlabel(\"concentration (ug/L)\")\n",
    "#plt.ylabel(\"average intensity\")"
   ]
  },
  {
   "cell_type": "code",
   "execution_count": 19,
   "id": "a82c86b1-9b6e-4b67-9e93-2d884daaccfe",
   "metadata": {},
   "outputs": [
    {
     "name": "stdout",
     "output_type": "stream",
     "text": [
      "The calibration curve for Cu 327.395 is y = 5430.310604171041x +6783.394959536716 and has a R^2 value of 0.9817111665055329\n",
      "the unknowns for Cu 327.395 have concentrations of [99.89186523 -0.15646526 -1.07103725  1.87040775  1.51436182 -0.30597052] mg/mL\n",
      "The calibration curve for Fe 238.204 is y = 7936.790353427116x +9251.027832466934 and has a R^2 value of 0.9823885021883836\n",
      "the unknowns for Fe 238.204 have concentrations of [ 1.03380120e+02 -9.37126722e-02 -1.14466647e+00  1.88739673e+00\n",
      "  1.36646953e+00 -2.36537410e-01] mg/mL\n",
      "The calibration curve for Pb 220.353 is y = 655.4226110274474x +694.9619664474103 and has a R^2 value of 0.9829420084253891\n",
      "the unknowns for Pb 220.353 have concentrations of [1.01078063e+02 1.69337430e+01 6.51915769e-02 1.93892579e+01\n",
      " 1.66551136e+01 1.50003034e+01] mg/mL\n"
     ]
    }
   ],
   "source": [
    "# best fit lines\n",
    "slope = []\n",
    "intercept = []\n",
    "Rsqd = []\n",
    "\n",
    "#place to store sample data\n",
    "unknown = []\n",
    "#make sure sample is a numpy array\n",
    "sample = np.array(sample)\n",
    "#print(sample)\n",
    "\n",
    "for i in range(len(elements)):\n",
    "    m, b, R2, p, s_m = stats.linregress(x[i], y[i])\n",
    "    slope.append(m)\n",
    "    intercept.append(b)\n",
    "    Rsqd.append(R2)\n",
    "    temp = (sample[i] - b)/m\n",
    "    unknown.append(temp)\n",
    "    \n",
    "\n",
    "count = 0\n",
    "for i in elements:\n",
    "    print(F'The calibration curve for {i} is y = {slope[count]}x +{intercept[count]} and has a R^2 value of {Rsqd[count]}')\n",
    "    print(F'the unknowns for {i} have concentrations of {unknown[count]} mg/mL')\n",
    "    count = count + 1\n",
    "\n"
   ]
  },
  {
   "cell_type": "code",
   "execution_count": null,
   "id": "6458abd8-e5aa-4c75-b023-79c5d1b76062",
   "metadata": {},
   "outputs": [],
   "source": []
  }
 ],
 "metadata": {
  "kernelspec": {
   "display_name": "Python 3 (ipykernel)",
   "language": "python",
   "name": "python3"
  },
  "language_info": {
   "codemirror_mode": {
    "name": "ipython",
    "version": 3
   },
   "file_extension": ".py",
   "mimetype": "text/x-python",
   "name": "python",
   "nbconvert_exporter": "python",
   "pygments_lexer": "ipython3",
   "version": "3.9.12"
  }
 },
 "nbformat": 4,
 "nbformat_minor": 5
}
