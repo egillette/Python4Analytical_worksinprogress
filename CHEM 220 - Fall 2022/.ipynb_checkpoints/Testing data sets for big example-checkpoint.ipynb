{
 "cells": [
  {
   "cell_type": "markdown",
   "id": "0616e8ae-9620-47df-bd64-734a33681a69",
   "metadata": {},
   "source": [
    "## Testing data sets for big data example"
   ]
  },
  {
   "cell_type": "code",
   "execution_count": 35,
   "id": "de06ba48-8106-4bbd-8833-56f61612273f",
   "metadata": {},
   "outputs": [
    {
     "name": "stdout",
     "output_type": "stream",
     "text": [
      "28350\n",
      "651\n",
      "[0.8, 0.2, 0.6, 0.08, 0.2, 0.7, 0.4, 1.1, 0.2, 0.19, 0.08, 0.2, 0.08, 0.1, 0.1, 0.1, 5.6, 5.14, 0.1, 1.1, 0.2, 0.08, 0.08, 0.2, 0.1, 0.4, 2.05, 0.2, 0.4, 1.2, 1.2, 1.17, 1.3, 0.9, 2.4, 0.3, 0.8, 3.3, 0.1, 0.8, 0.1, 0.2, 0.2, 0.9, 0.7, 1.4, 7.1, 0.1, 3.6, 2.8, 5.4, 9.8, 0.65, 0.3, 0.1, 1.6, 2.7, 0.08, 0.1, 0.3, 0.17, 0.3, 1.9, 2.0, 0.2, 0.3, 1.0, 8.4, 1.3, 0.5, 5.1, 4.3, 1.2, 2.5, 0.1, 0.06, 0.1, 0.08, 0.08, 2.0, 0.1, 0.1, 0.11, 0.08, 0.0037, 0.2, 0.1, 0.1, 0.6, 0.1, 0.6, 0.277, 0.09, 0.05, 0.019, 0.045, 0.025, 0.09, 0.04, 0.062, 0.018, 3.0, 5.5, 4.0, 3.0, 4.0, 0.41, 1.6, 0.41, 3.8, 3.3, 0.025, 0.045, 0.021, 0.082, 0.18, 0.018, 0.22, 0.07, 0.23, 0.079, 0.14, 0.021, 0.13, 0.062, 0.02, 0.98, 0.047, 2.0, 0.17, 0.033, 0.047, 0.08, 0.043, 0.084, 0.002, 0.015, 2.0, 0.03, 0.63, 1.2, 0.28, 0.038, 0.011, 0.067, 0.021, 0.017, 0.06, 0.04, 0.025, 0.05, 0.03, 0.03, 0.045, 0.03, 0.04, 0.041, 0.11, 0.024, 0.039, 3.0, 3.0, 0.4, 2.0, 0.1, 0.1, 0.069, 3.0, 0.784, 3.0, 0.25, 0.066, 3.0, 0.03, 0.091, 0.059, 0.27, 0.4, 2.0, 0.17, 0.24, 0.22, 0.09, 0.059, 0.016, 0.1, 0.11, 0.06, 0.11, 0.03, 0.14, 6.09, 0.037, 0.31, 0.08, 0.6, 0.25, 0.04, 0.7, 0.08, 0.35, 0.012, 0.12, 0.031, 0.018, 0.29, 0.13, 0.3, 0.0037, 0.0037, 0.03, 0.06, 0.0048, 0.07, 0.03, 0.025, 0.05, 0.2, 0.09, 7.89, 0.033, 0.08, 0.032, 0.039, 0.071, 0.45, 0.96, 0.002, 0.069, 2.0, 0.41, 0.02, 0.33, 0.034, 0.041, 0.06, 0.09, 0.17, 0.049, 2.6, 14.0, 2.0, 3.01, 0.25, 1.4, 1.7, 0.079, 0.04, 0.02, 0.05, 0.04, 0.067, 0.58, 0.066, 0.06, 0.069, 0.06, 0.02, 0.026, 0.06, 0.36, 0.026, 0.32, 0.12, 0.1, 0.13, 0.028, 0.096, 0.042, 0.23, 0.43, 0.03, 0.29, 0.047, 0.046, 0.018, 0.022, 0.062, 0.022, 0.08, 0.016, 0.041, 0.045, 0.05, 5.0, 0.045, 0.11, 0.015, 0.14, 1.5, 3.44, 0.37, 0.14, 0.16, 0.17, 0.083, 0.03, 0.38, 1.0, 0.195, 0.159, 0.119, 0.122, 0.221, 0.067, 0.186, 0.098, 0.075, 0.084, 0.26, 0.155, 0.77, 0.25, 0.186, 0.745, 0.196, 0.283, 0.177, 0.163, 0.03, 0.035, 0.06, 0.18, 0.02, 0.011, 0.04, 0.03, 0.07, 0.368, 0.022, 0.03, 0.06, 0.017, 0.03, 0.02, 0.05, 0.03, 0.03, 0.11, 0.15, 0.037, 0.039, 0.02, 0.025, 0.08, 0.04, 0.02, 0.03, 0.09, 0.12, 0.03, 0.032, 0.13, 0.033, 0.04, 0.009, 0.0144, 0.0363, 0.011, 0.294, 0.0583, 0.151, 0.013, 0.042, 0.015, 0.008, 0.024, 0.012, 0.055, 0.035, 0.035, 0.017, 0.023, 0.047, 0.025, 0.1, 0.05, 0.08, 0.03, 0.11, 0.46, 0.07, 0.49, 0.89, 0.039, 0.00387, 0.037, 0.0454, 0.027, 0.00738, 0.023, 0.0462, 0.497, 0.015, 0.187, 0.007, 0.028, 0.009, 0.004, 0.031, 0.007, 0.014, 0.03, 0.05, 0.03, 0.41, 0.09, 0.14, 0.22, 0.03, 0.42, 0.09, 0.16, 0.36, 0.03, 0.03, 0.1, 0.13, 0.0363, 0.037, 0.0541, 0.025, 0.077, 0.0204, 0.045, 0.0112, 0.00561, 0.0238, 0.019, 0.017, 0.042, 0.008, 0.00521, 0.027, 0.007, 0.006, 0.113, 0.044, 0.03, 0.022, 0.025, 0.01, 0.036, 0.05, 0.4, 0.08, 0.42, 0.22, 0.06, 0.09, 0.06, 0.07, 0.06, 0.03, 0.08, 0.03, 0.37, 0.1, 0.42, 0.16, 2.7, 0.38, 0.32, 1.6, 0.97, 1.2, 1.2, 0.55, 0.64, 1.2, 0.58, 0.35, 0.2, 1.6, 0.56, 1.1, 1.7, 0.51, 0.2, 0.27, 0.27, 0.38, 2.1, 0.91, 0.74, 1.2, 2.1, 1.1, 0.56, 0.4, 1.0, 0.5, 1.1, 0.43, 0.87, 0.7, 5.2, 0.4, 0.08, 0.08, 0.13, 1.1, 0.2, 0.4, 0.7, 1.5, 0.3, 0.3, 0.7, 0.1, 0.09, 3.6, 0.6, 0.3, 3.3, 6.7, 17.0, 17.0, 12.0, 5.9, 2.4, 0.07, 0.4, 2.0, 0.1, 0.09, 0.016, 0.023, 0.031, 0.031, 0.26, 0.034, 0.002, 0.007, 2.0, 1.5, 1.9, 0.45, 0.51, 0.025, 0.12, 1.17, 0.27, 0.02, 0.099, 0.33, 0.07, 0.17, 0.04, 0.04, 0.057, 0.11, 0.071, 0.04, 0.073, 0.04, 0.024, 2.0, 0.02, 0.065, 0.05, 0.03, 0.14, 0.028, 0.07, 0.08, 0.07, 0.023, 0.11, 0.05, 0.04, 0.09, 0.93, 0.09, 0.55, 5.4, 0.16, 0.024, 0.098, 0.02, 1.9, 5.0, 0.03, 0.2, 0.097, 0.2, 0.089, 0.173, 0.202, 0.328, 0.607, 0.14, 0.424, 0.027, 0.028, 0.089, 0.031, 0.024, 0.03, 0.03, 0.03, 0.07, 0.13, 0.12, 0.05, 0.01, 0.0363, 0.0175, 0.131, 0.0591, 0.0125, 0.036, 0.028, 0.0419, 0.06, 0.031, 0.028, 0.022, 0.007, 0.007, 0.00291, 0.051, 0.093, 0.074, 0.06, 0.16, 0.03, 0.033, 0.03, 0.03, 0.03, 0.09, 0.11, 0.1, 0.11, 0.33, 0.15, 0.07, 0.31, 0.02, 0.02, 0.01, 1.5, 0.3, 0.57, 1.5, 5.0, 6.3, 0.44, 1.5, 0.76]\n"
     ]
    },
    {
     "data": {
      "text/plain": [
       "Text(0.5, 1.0, 'matplotlib.pyplot.hist() function Example\\n\\n')"
      ]
     },
     "execution_count": 35,
     "metadata": {},
     "output_type": "execute_result"
    },
    {
     "data": {
      "image/png": "[encoded data removed]",
      "text/plain": [
       "<Figure size 432x288 with 1 Axes>"
      ]
     },
     "metadata": {
      "needs_background": "light"
     },
     "output_type": "display_data"
    }
   ],
   "source": [
    "# Ignore the first lines of code here, this is just a strategy for importing data into a list so we can use it!\n",
    "from pandas import *\n",
    "data = read_csv(\"ceden_data_20220827062031.csv\")\n",
    "\n",
    "result = data['Result'].tolist()\n",
    "metal = data['Analyte'].tolist()\n",
    "units = data['Unit']\n",
    "\n",
    "print(len(result))\n",
    "Pb = []\n",
    "# go through a grab all the Pb data that has a recorded value\n",
    "for x in range(len(result)):\n",
    "    if metal[x] == 'Lead, Dissolved' and result[x]>0.001 and result[x]<30.0:\n",
    "        Pb.append(result[x])\n",
    "    \n",
    "    \n",
    "print(len(Pb))\n",
    "newPb = [x for x in Pb if math.isnan(x) == False]\n",
    "print(Pb)\n",
    "import matplotlib.pyplot as plt\n",
    "\n",
    "n,bins,patches =plt.hist(Pb,50)\n",
    "\n",
    "  \n",
    "plt.xlabel('X-Axis')\n",
    "plt.ylabel('Y-Axis')\n",
    "  \n",
    "plt.title('matplotlib.pyplot.hist() function Example\\n\\n', fontweight =\"bold\")"
   ]
  },
  {
   "cell_type": "code",
   "execution_count": null,
   "id": "e402dd4a-9e13-4f8a-a7fc-c6369da890ea",
   "metadata": {},
   "outputs": [],
   "source": []
  },
  {
   "cell_type": "code",
   "execution_count": 31,
   "id": "40630f8a-cc4a-463c-98df-3c9d4c6ecfb0",
   "metadata": {},
   "outputs": [
    {
     "name": "stdout",
     "output_type": "stream",
     "text": [
      "28350\n",
      "1365\n",
      "1365\n"
     ]
    },
    {
     "data": {
      "text/plain": [
       "Text(0.5, 1.0, 'matplotlib.pyplot.hist() function Example\\n\\n')"
      ]
     },
     "execution_count": 31,
     "metadata": {},
     "output_type": "execute_result"
    },
    {
     "data": {
      "image/png": "[encoded data removed]",
      "text/plain": [
       "<Figure size 432x288 with 1 Axes>"
      ]
     },
     "metadata": {
      "needs_background": "light"
     },
     "output_type": "display_data"
    }
   ],
   "source": [
    "import math\n",
    "print(len(result))\n",
    "Ca = []\n",
    "# go through a grab all the Pb data that has a recorded value\n",
    "for x in range(len(result)):\n",
    "    if metal[x] == 'Calcium, Total' and result[x]>0 and result[x]<500:\n",
    "        Ca.append(result[x])\n",
    "    \n",
    "    \n",
    "print(len(Ca))\n",
    "newCa = [x for x in Ca if math.isnan(x) == False]\n",
    "print(len(newCa))\n",
    "import matplotlib.pyplot as plt\n",
    "\n",
    "n,bins,patches =plt.hist(Ca)\n",
    "\n",
    "  \n",
    "plt.xlabel('X-Axis')\n",
    "plt.ylabel('Y-Axis')\n",
    "  \n",
    "plt.title('matplotlib.pyplot.hist() function Example\\n\\n', fontweight =\"bold\")"
   ]
  },
  {
   "cell_type": "code",
   "execution_count": 27,
   "id": "293e08f9-65ae-4995-b463-15bf473c1c08",
   "metadata": {},
   "outputs": [
    {
     "name": "stdout",
     "output_type": "stream",
     "text": [
      "340000.0\n"
     ]
    }
   ],
   "source": [
    "print(max(Ca))"
   ]
  },
  {
   "cell_type": "code",
   "execution_count": null,
   "id": "960690a4-09bf-4c96-b3e6-8465864bb957",
   "metadata": {},
   "outputs": [],
   "source": []
  }
 ],
 "metadata": {
  "kernelspec": {
   "display_name": "Python 3 (ipykernel)",
   "language": "python",
   "name": "python3"
  },
  "language_info": {
   "codemirror_mode": {
    "name": "ipython",
    "version": 3
   },
   "file_extension": ".py",
   "mimetype": "text/x-python",
   "name": "python",
   "nbconvert_exporter": "python",
   "pygments_lexer": "ipython3",
   "version": "3.9.12"
  }
 },
 "nbformat": 4,
 "nbformat_minor": 5
}
