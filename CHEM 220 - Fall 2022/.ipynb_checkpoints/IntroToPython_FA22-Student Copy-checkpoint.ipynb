{
 "cells": [
  {
   "cell_type": "markdown",
   "id": "2ac700df-00c7-42c0-8b2c-ad9fc9abeb42",
   "metadata": {},
   "source": [
    "# Programming Basics for Analytical Chemistry"
   ]
  },
  {
   "cell_type": "markdown",
   "id": "941e1534-2f5f-4f87-87f4-1c65e291aae7",
   "metadata": {},
   "source": [
    "## Learning objectives for today:\n",
    "    \n",
    "    \n",
    "1. Learn some basic programming terminology:\n",
    "\n",
    "    * variables (and three variable types - float, integer and string)\n",
    "    \n",
    "    * simple functions\n",
    "    \n",
    "    * comments\n",
    "    \n",
    "    \n",
    "2. Learn how to use simple progamming tools to automate simple calculations\n",
    "\n",
    "    * Indexes and lists\n",
    "    \n",
    "    * For loops\n",
    "    \n",
    "    * If-then statements\n",
    "    \n",
    "    \n",
    "3. Practice simple statistics for describing data:\n",
    "\n",
    "   * Calculate and properly report average, standard deviation and confidence interval for a data set\n",
    "    \n",
    "   * Use a Grubbs test to determine if a data point is an outlier\n",
    "    \n"
   ]
  },
  {
   "cell_type": "markdown",
   "id": "a9499c90-5d20-4ace-8b8e-45b4ba2d1906",
   "metadata": {},
   "source": [
    "## Part 1 - Introduction to coding, and some simple math\n",
    "You are working in a Jupyter notebook, which allows us to include regular text, called \"Markdown\", along with our Python code. What you are reading right now is markdown. What you see in the box below is Python code. In the markdown box we can write whatever detailed descriptions we want to write. In the code block, we have to be more careful: the computer will try to interpret anything we write in that block as code, unless we use a # to designate informaiton as a \"comment\".\n",
    "So we'll do some math, and use comments to explain what we're doing in the code block below:\n"
   ]
  },
  {
   "cell_type": "code",
   "execution_count": 1,
   "id": "f1511754-ce19-42c0-a596-f1cfe4440c51",
   "metadata": {},
   "outputs": [
    {
     "data": {
      "text/plain": [
       "'hello world'"
      ]
     },
     "execution_count": 1,
     "metadata": {},
     "output_type": "execute_result"
    }
   ],
   "source": [
    "# addition\n",
    "1+2\n",
    "\n",
    "# subtraction\n",
    "6-5\n",
    "\n",
    "# multiplication\n",
    "15*69\n",
    "\n",
    "#division\n",
    "50/5\n",
    "\n",
    "# exponents\n",
    "3**3\n",
    "\n",
    "# operators work for things other than numbers!\n",
    "\n",
    "'hello ' + 'world'"
   ]
  },
  {
   "cell_type": "markdown",
   "id": "e651e4cb-91dd-4fba-88ab-df1b4d26066e",
   "metadata": {},
   "source": [
    "## Part 2 - Variables and Printing\n",
    "\n",
    "OK, so far Python seems like a pretty lousy calculator. To do more, we need to store information in variables. There are three important variable types that we will use in this class.\n",
    "\n",
    "* Integers: Whole number values, abbreviated 'int'\n",
    "* Floats: Numbers with decimal places, abbreviated 'float'\n",
    "* Strings: Words, abbreviated 'str'\n",
    "\n",
    "We can use the command \"type\" to ask Python to let us know what kind of variable something is. So, which variables in our calculator do you think match these three types? Let's double check!\n",
    "\n",
    "Once we start saving things as variables, Python will stop printing out the last line of our code. When we want it to print out information stored in a variable, we have to tell it what we want to see. The simplest way to do this is using the print function, which will work with any of our variable types!\n",
    "\n",
    "Let's define an example of each variable type, and use the print and type commands!"
   ]
  },
  {
   "cell_type": "code",
   "execution_count": 2,
   "id": "9a012714-5967-4a3e-a003-2d7795982f50",
   "metadata": {},
   "outputs": [
    {
     "name": "stdout",
     "output_type": "stream",
     "text": [
      "5\n"
     ]
    },
    {
     "data": {
      "text/plain": [
       "int"
      ]
     },
     "execution_count": 2,
     "metadata": {},
     "output_type": "execute_result"
    }
   ],
   "source": [
    "# integer\n",
    "a = 5\n",
    "\n",
    "# float\n",
    "\n",
    "b = 5.0\n",
    "\n",
    "# string\n",
    "\n",
    "c = 'five'\n",
    "\n",
    "# print(variable) to output the variable\n",
    "\n",
    "print(a)\n",
    "\n",
    "# type(variable) will tell us what kind of variable it is\n",
    "type(a)"
   ]
  },
  {
   "cell_type": "markdown",
   "id": "a7d6ff14-b47c-43b1-a295-55c28046ef75",
   "metadata": {},
   "source": [
    "## Part 3 - Lists and Indexing\n",
    "\n",
    "We are usually going to want to work with a lot of numbers, not just one or two. We can store data in lists, and then use those lists to automate repetitive mathematical functions. We'll take some data here that hopefully looks familiar and put it in a list called \"data\" \n",
    "\n",
    "If we print the whole list, we'll get all of the data stored there. "
   ]
  },
  {
   "cell_type": "code",
   "execution_count": 3,
   "id": "d2c258b9-2ee6-4014-a396-60b55c51dceb",
   "metadata": {},
   "outputs": [
    {
     "name": "stdout",
     "output_type": "stream",
     "text": [
      "[14.1, 11.0, 13.8, 13.6, 14.8]\n"
     ]
    },
    {
     "data": {
      "text/plain": [
       "list"
      ]
     },
     "execution_count": 3,
     "metadata": {},
     "output_type": "execute_result"
    }
   ],
   "source": [
    "data = [14.1, 11.0, 13.8, 13.6, 14.8] #ppb\n",
    "\n",
    "print(data)\n",
    "type(data)"
   ]
  },
  {
   "cell_type": "markdown",
   "id": "7135747c-6817-4628-b16b-ba17f9b56f63",
   "metadata": {},
   "source": [
    "If we want to see just one number from a list, we can do that too! However, it is very important to remember <b> Computers start counting at zero! </b>\n",
    "So for the first item in a list, we need to ask the computer for item 0"
   ]
  },
  {
   "cell_type": "code",
   "execution_count": 4,
   "id": "4fe7581c-b8ba-4f2f-8104-f682442fdd42",
   "metadata": {},
   "outputs": [
    {
     "name": "stdout",
     "output_type": "stream",
     "text": [
      "14.1\n"
     ]
    }
   ],
   "source": [
    "print(data[0])"
   ]
  },
  {
   "cell_type": "markdown",
   "id": "ac5923fb-43cf-493b-8efb-c7e0b2c90e96",
   "metadata": {},
   "source": [
    "What should we do to print the third number in this list? Try it here:"
   ]
  },
  {
   "cell_type": "code",
   "execution_count": 5,
   "id": "40dda5d3-e8bb-4776-9be2-8b484c83beea",
   "metadata": {},
   "outputs": [
    {
     "name": "stdout",
     "output_type": "stream",
     "text": [
      "13.8\n"
     ]
    }
   ],
   "source": [
    "print(data[2])"
   ]
  },
  {
   "cell_type": "markdown",
   "id": "586bf052-dcdf-49bb-9cc4-b60c08332c9f",
   "metadata": {},
   "source": [
    "## Part 4 - For Loops\n",
    "This isn't very helpful if we have hundreds or thousands of data points; would you want to type a line of code for every single data point when you needed it?\n",
    "\n",
    "Luckily, we can always automate repative functions!\n",
    "\n",
    "One way to do this is called a \"for loop\":\n",
    "We will ask the computer to continue doing a certain process for each value in a list. The for loop below is set up to print every word stored in the list fruits."
   ]
  },
  {
   "cell_type": "code",
   "execution_count": 6,
   "id": "044c9ca7-dbe5-4894-9597-0dc37fb7791f",
   "metadata": {},
   "outputs": [
    {
     "name": "stdout",
     "output_type": "stream",
     "text": [
      "apple\n",
      "banana\n",
      "cherry\n",
      "apricot\n",
      "blackberry\n"
     ]
    }
   ],
   "source": [
    "# List of fruits\n",
    "\n",
    "fruits = [\"apple\", \"banana\", \"cherry\",\"apricot\",\"blackberry\"]\n",
    "for x in fruits:\n",
    "  print(x)"
   ]
  },
  {
   "cell_type": "markdown",
   "id": "8a30da08-8ed4-461f-8c35-b2c8f852c3f0",
   "metadata": {},
   "source": [
    "<b>Answer the following questions before you continue: </b> (double click in this box to type in it!)\n",
    "1. Add another fruit to the list, and rerun the block. Did you have the change anything in the for loop to see all of the names?\n"
   ]
  },
  {
   "cell_type": "markdown",
   "id": "e5c98e3a-ab7e-4d52-bbff-9acd6412d7d9",
   "metadata": {},
   "source": [
    "## Part 5 - Apply lists and for loops to simple mathematical functions\n",
    "\n",
    "A data set that has more than one number will often be stored in a list, and we use for loops to manipulate those lists, and carry out complicated mathematical functions. Today we'll write the code for two simple examples: averages and standard deviations!\n",
    "\n",
    "### Using Python to calculate an average:\n",
    "\n",
    "<b> Answer the following question before you continue </b>\n",
    " 1. Take out a piece of paper or your calculator, and figure out the average for all of the numbers in data. What did you get?\n",
    " \n",
    " \n",
    " 2. You need to explain to a friend how to calculate an average. Could you break the process down into just a few basic steps? Write your steps here\n",
    " "
   ]
  },
  {
   "cell_type": "code",
   "execution_count": 7,
   "id": "94ae2a32-8aff-4562-b01d-d5b0b45822ed",
   "metadata": {},
   "outputs": [
    {
     "name": "stdout",
     "output_type": "stream",
     "text": [
      "13.460000000000003\n"
     ]
    }
   ],
   "source": [
    "## Average\n",
    "\n",
    "sumdata = 0\n",
    "for x in data:\n",
    "    sumdata = sumdata + x\n",
    "        \n",
    "average = sumdata/len(data) \n",
    "\n",
    "print (average)"
   ]
  },
  {
   "cell_type": "markdown",
   "id": "4b056e84-e7d7-4f46-a900-4d560042b091",
   "metadata": {},
   "source": [
    "### Using Python to calculate a standard deviation\n",
    "\n",
    "The equation for standard deviation is  $ s={\\sqrt {\\frac {\\sum _{i=1}^{N}(x_{i}-{\\overline {x}})^{2}}{N-1}}} $ where n is the number of data points you have, $ {\\overline {x}} $ is the average and $ x_{i} $ is any one of your data points.\n",
    "\n",
    "If you don't remember the  $ \\sum $ symbol; note that it's called a summation, and it means that you do the operation inside the summation ( in this case $ (x_{i}-{\\overline {x}})^{2} $ for each data point, and then add them all together.\n"
   ]
  },
  {
   "cell_type": "markdown",
   "id": "24b7f8a6-80b1-45a1-a0f0-8529db26ff0e",
   "metadata": {},
   "source": [
    "For your practice (and to make sure you really understand the math!), take a minute here and calculate the standard deviation by hand. <b> Answer the following questions before you proceed </b>\n",
    "1. What value did you get for the standard deviation when you calculated it by hand?\n",
    "\n",
    "2. Break the process you did down into steps. Which step do you think a for loop might help you do faster? \n",
    "\n",
    "Now let's write some code!"
   ]
  },
  {
   "cell_type": "code",
   "execution_count": 8,
   "id": "bf288c7e-639f-4ed5-bea0-6462b52f9693",
   "metadata": {},
   "outputs": [
    {
     "name": "stdout",
     "output_type": "stream",
     "text": [
      "1.4484474446799926\n"
     ]
    }
   ],
   "source": [
    " #standard devation\n",
    "\n",
    "#note that we must sometimes 'import' additional commands to suppliment python's basic library. \n",
    "# The \"math\" library gives us access to extended mathemtical functions, like square roots and logarithms.\n",
    "import math\n",
    "# add your comments here; what are we doing?\n",
    "\n",
    "sigma_x = 0\n",
    "n = len(data)\n",
    "\n",
    "# add your own comments here\n",
    "for x in data:\n",
    "    sigma_x = sigma_x + ((x-average)**2)\n",
    "    \n",
    "    \n",
    "\n",
    "std = math.sqrt(sigma_x/(n-1))\n",
    "\n",
    "print(std)"
   ]
  },
  {
   "cell_type": "markdown",
   "id": "a55865c5-9342-424e-a951-ee7a8ec671af",
   "metadata": {},
   "source": [
    "## Correctly Formatting Outputs\n",
    "\n",
    "\n",
    "<b> Whoa, thats a lot of digits! </b> That can't possibly be the right number of significant digits, right? Remember that the computer only knows how to do what you tell it to do! So if you don't tell it to round to a certain number of digits, it will just give you everything it has stored. So lets figure out how to round those numbers to something a little more reasonable, and while we're at it, we'll do a better job of presenting this data with the correct formatting of average +/- standard deviation.\n",
    "\n",
    "### New Rule for Sig Figs\n",
    "\n",
    "Forget the rules you memorized in gen chem for significant figures. When working with real data, we should always have a reasonable approximation of error, which will define our significant digits for us. In this case, we'll use standard deviation as our estimate of error. So you have two steps now to determine correct significant figures:\n",
    "1. Round the error value to one significant digit (or two IF the error value begins with a 1)\n",
    "2. Round the average to the same decimal place as the error value\n",
    "\n",
    "### Formatting Results\n",
    "Never report averages without error, and never report averages or errors without units! The correct format, if we're working with absolte error, is always \"average +/- error units\".\n",
    "\n"
   ]
  },
  {
   "cell_type": "code",
   "execution_count": 9,
   "id": "e699dfa2-b06b-4596-aa84-607d7c15030c",
   "metadata": {},
   "outputs": [
    {
     "name": "stdout",
     "output_type": "stream",
     "text": [
      "The average lead measurement in our data set is 13.5 =/- 1.4 ppb\n"
     ]
    }
   ],
   "source": [
    "# Using F printing to get the correct sig figs and formatting for this answer\n",
    "\n",
    "print(F'The average lead measurement in our data set is {average:.1f} =/- {std:.1f} ppb')\n"
   ]
  },
  {
   "cell_type": "markdown",
   "id": "f180e800-0016-4e17-b9f5-971db8917ba3",
   "metadata": {},
   "source": [
    "## Part 6 - Confidence Intervals\n",
    "\n",
    "So far, everything we've done should have been a review from Gen Chem! But we can do better than standard deviation as an estimate of error for experimental data. To do this, we use Confidence Intervals\n",
    "\n",
    "The equation for confidence interval is  $$ CI= {\\frac {ts}{\\sqrt {n}}} $$ We already know how to get n (from the length of the list!) and you already calculated s! So now we just need t. Luckily, Python has those t-tables from your text book, we just have to tell it which one we need! See the code below:\n",
    "\n"
   ]
  },
  {
   "cell_type": "code",
   "execution_count": 10,
   "id": "00e337cf-f8c7-4e32-a3d4-cf1b197c78c1",
   "metadata": {},
   "outputs": [
    {
     "name": "stdout",
     "output_type": "stream",
     "text": [
      "the average concentration is 13.5 +/- 1.8 ppb\n"
     ]
    }
   ],
   "source": [
    "import scipy.stats as stats\n",
    "#the first input is confidence %, the second is degrees of freedom (n-1)\n",
    "\n",
    "# we will always use \"two tailed t values\", so the confidence interval format is slightly different than expected\n",
    "\n",
    "#confidence level\n",
    "\n",
    "alpha = 0.05 # 1- alpha should equal your confidence interval. Here, we use 0.05, for a 95% confidence interval\n",
    "dof = len(data) - 1 # degrees of freedom is the number of samples (i.e. the length of the list) minus one\n",
    "\n",
    "#two tailed t statistics require the following format:\n",
    "\n",
    "t = stats.t.ppf(1-alpha/2, dof) #inputs are alpha to set the confidence interval and degrees of freedom\n",
    "\n",
    "#check that this matches the value in the textbook!\n",
    "#print(t)\n",
    "\n",
    "\n",
    "# calculate the actual confidence interval\n",
    "CI = std*t/math.sqrt(len(data))\n",
    "\n",
    "\n",
    "print (F\"the average concentration is {average:.1f} +/- {CI:.1f} ppb\")"
   ]
  },
  {
   "cell_type": "markdown",
   "id": "c6b0024e-bb84-4222-bfd1-dbee4cdfeea6",
   "metadata": {},
   "source": [
    "## Bigger Data Sets\n",
    "\n",
    "Obviously with 5 data points, writing all this code isn't really all that much faster than just doing the math by hand, in your calculator or in Excel. Where this becomes a real advantage is when the data sets are very large.\n",
    "Here is an example data set from the California Environmental Data Exchange Network (an organization whose mission is to generate high quality acceible and usable data to help protect and restore California's watersheds). This is NOT drinking water data, it is surface water data (lakes, streams, ponds, etc.) but it is a great example of a big database we might want to work with!\n",
    "<b> Before you begin running any of this code, we need to load the data file! </b>"
   ]
  },
  {
   "cell_type": "code",
   "execution_count": 30,
   "id": "5a571e90-ce58-48c9-aa98-7d6b6b676022",
   "metadata": {},
   "outputs": [
    {
     "name": "stderr",
     "output_type": "stream",
     "text": [
      "C:\\Users\\egillette\\AppData\\Local\\Temp\\ipykernel_21332\\128928266.py:3: DtypeWarning: Columns (101) have mixed types. Specify dtype option on import or set low_memory=False.\n",
      "  data = read_csv(\"cd3-Pb.csv\")\n"
     ]
    },
    {
     "data": {
      "text/plain": [
       "Text(0.5, 1.0, 'Histogram of Pb in CEDEN water data')"
      ]
     },
     "execution_count": 30,
     "metadata": {},
     "output_type": "execute_result"
    },
    {
     "data": {
      "image/png": "[encoded data removed]",
      "text/plain": [
       "<Figure size 432x288 with 1 Axes>"
      ]
     },
     "metadata": {
      "needs_background": "light"
     },
     "output_type": "display_data"
    }
   ],
   "source": [
    "# Don't worry about anything in this box, this is just a strategy for importing data into a list so we can use it!\n",
    "import pandas as pd\n",
    "data = read_csv(\"cd3-Pb.csv\")\n",
    "\n",
    "Pb_raw = data['result'].tolist()\n",
    "units = data['unitname'].tolist()\n",
    "Pb = [x for x in Pb_raw if pd.isnull(x) == False]\n",
    "#print(newlist)\n",
    "#print(data)\n",
    "\n",
    "n,bins,patches =plt.hist(Pb,100)\n",
    "\n",
    "  \n",
    "plt.xlabel('Pb in ug/L (ppb)')\n",
    "plt.ylabel('Number of samples')\n",
    "  \n",
    "plt.title('Histogram of Pb in CEDEN water data',\n",
    "          fontweight =\"bold\")\n",
    "#Just run this block, to see all of the Pb measurements this database has!"
   ]
  },
  {
   "cell_type": "markdown",
   "id": "0d914d0e-f00f-439d-943c-b02b8b65893b",
   "metadata": {},
   "source": [
    "### Whoa thats a lot of data!\n",
    "OK, we don't want to try to work with this data manually. Even working in Excel would be a little tedious with this many data points! So let's process this data in Python.\n",
    "Let's get a sense for this data, and then calculate our descriptive statistics!\n",
    "\n",
    "## 1. Range and n"
   ]
  },
  {
   "cell_type": "code",
   "execution_count": 31,
   "id": "91cb66c7-233c-4749-91d8-7182f5c30f4f",
   "metadata": {},
   "outputs": [
    {
     "name": "stdout",
     "output_type": "stream",
     "text": [
      "This data set has 11339 points, with a maximum of 140.0 ug/l and a minimum of 1.55e-05 ug/l\n"
     ]
    }
   ],
   "source": [
    "top = max(Pb)\n",
    "bottom = min(Pb)\n",
    "n = len(Pb)\n",
    "\n",
    "print(F'This data set has {n} points, with a maximum of {top} {units[0]} and a minimum of {bottom} {units[0]}')\n"
   ]
  },
  {
   "cell_type": "markdown",
   "id": "07b47f8e-a38c-4f1b-9b17-25b67fcd4de2",
   "metadata": {},
   "source": [
    "## 2. Average and Standard Deviation\n",
    "\n",
    "The functions we wrote above are actually already built into to Python! We'll use the built in functions here, for simplicities sake!"
   ]
  },
  {
   "cell_type": "code",
   "execution_count": 32,
   "id": "e063b84c-ed6f-492d-85b0-95c181795332",
   "metadata": {},
   "outputs": [
    {
     "name": "stdout",
     "output_type": "stream",
     "text": [
      "The average lead measurement is 1.3660852053590264 +/- 6.0391590390608005 ug/L\n"
     ]
    }
   ],
   "source": [
    "import statistics as stat\n",
    "\n",
    "x_Pb = stat.mean(Pb)\n",
    "s_Pb = stat.stdev(Pb)\n",
    "\n",
    "print(F'The average lead measurement is {x_Pb} +/- {s_Pb} ug/L')"
   ]
  },
  {
   "cell_type": "markdown",
   "id": "5c2bae25-eec4-44bd-bad4-1d0366c6690e",
   "metadata": {},
   "source": [
    "## Confidence Interval "
   ]
  },
  {
   "cell_type": "code",
   "execution_count": 33,
   "id": "4e69652b-977f-43c9-91b1-afc85d2123b9",
   "metadata": {},
   "outputs": [
    {
     "name": "stdout",
     "output_type": "stream",
     "text": [
      "The average lead measurement is 1.3660852053590264 +/- 0.11116896049112324 ug/L (95.0 % confidence level\n"
     ]
    }
   ],
   "source": [
    "#confidence level\n",
    "\n",
    "alpha = 0.05 # 1- alpha should equal your confidence interval. Here, we use 0.05, for a 95% confidence interval\n",
    "dof = len(Pb) - 1 # degrees of freedom is the number of samples (i.e. the length of the list) minus one\n",
    "\n",
    "#two tailed t statistics require the following format:\n",
    "\n",
    "t = stats.t.ppf(1-alpha/2, dof) #inputs are alpha to set the confidence interval and degrees of freedom\n",
    "\n",
    "#check that this matches the value in the textbook!\n",
    "#print(t)\n",
    "\n",
    "\n",
    "# calculate the actual confidence interval\n",
    "CI_Pb = s_Pb*t/math.sqrt(len(Pb))\n",
    "\n",
    "print(F'The average lead measurement is {x_Pb} +/- {CI_Pb} ug/L ({(1-alpha)*100} % confidence level')"
   ]
  },
  {
   "cell_type": "code",
   "execution_count": null,
   "id": "26d2c50e-daf4-4e59-b54c-35a974ba6b76",
   "metadata": {},
   "outputs": [],
   "source": []
  }
 ],
 "metadata": {
  "kernelspec": {
   "display_name": "Python 3 (ipykernel)",
   "language": "python",
   "name": "python3"
  },
  "language_info": {
   "codemirror_mode": {
    "name": "ipython",
    "version": 3
   },
   "file_extension": ".py",
   "mimetype": "text/x-python",
   "name": "python",
   "nbconvert_exporter": "python",
   "pygments_lexer": "ipython3",
   "version": "3.9.12"
  }
 },
 "nbformat": 4,
 "nbformat_minor": 5
}
