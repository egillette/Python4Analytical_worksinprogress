{
 "cells": [
  {
   "cell_type": "markdown",
   "id": "67d1db2a-0a89-48d0-87b6-468bc698802e",
   "metadata": {},
   "source": [
    "## Density Calculations and Short Report\n",
    "<b> Instructions </b>\n",
    "1. Complete the calculations as described in each box below\n",
    "2. Answer the questions at the end of the notebook\n",
    "3. Rename the document to include YOUR first and last name.\n",
    "4. Restart and Run All, to ensure that all output it showing up clearly and correctly\n",
    "5. Upload your file to Lab Archives and Submit"
   ]
  },
  {
   "cell_type": "markdown",
   "id": "d7f19d72-c2ed-4c4f-83ec-9cf22984ef0a",
   "metadata": {},
   "source": [
    "## Part 1a: DI water and 3 M NaCl Density\n",
    "\n",
    "First, we need to calculate averages, standard deviations and confidence intervals for the data you collected in lab. Collect the class data here, adding each result to the relevent list"
   ]
  },
  {
   "cell_type": "code",
   "execution_count": 7,
   "id": "568ce609-0ee2-4594-9076-4f6fe68bf601",
   "metadata": {},
   "outputs": [],
   "source": [
    "# import some generally useful packages\n",
    "import numpy as np\n",
    "import scipy.stats as stats\n",
    "import math\n",
    "\n",
    "# be sure to run this block before you begin!!"
   ]
  },
  {
   "cell_type": "code",
   "execution_count": 6,
   "id": "789faf25-f9b7-48c4-8227-a5063cc3f42a",
   "metadata": {},
   "outputs": [
    {
     "ename": "SyntaxError",
     "evalue": "invalid syntax (3033002280.py, line 12)",
     "output_type": "error",
     "traceback": [
      "\u001b[1;36m  Input \u001b[1;32mIn [6]\u001b[1;36m\u001b[0m\n\u001b[1;33m    NaCl_3M_x = # complete the code to calculate average\u001b[0m\n\u001b[1;37m                ^\u001b[0m\n\u001b[1;31mSyntaxError\u001b[0m\u001b[1;31m:\u001b[0m invalid syntax\n"
     ]
    }
   ],
   "source": [
    "# complete the lists\n",
    "NaCl_3M = []\n",
    "DI_water = []\n",
    "\n",
    "# use the code from last week to calcuate averages, standard deviations and 95% confidence intervals for each data set\n",
    "\n",
    "NaCl_3M_x = # complete the code to calculate average\n",
    "NaCl_3M_s = # complete the code to calculate standard deviation\n",
    "NaCl_3M_CI = # complete the code to calculate 95 % confidence interval (what are you missing to complete this calculation?)\n",
    "\n",
    "# print your results in a nice, classy print statement\n",
    "print(\"the class average density for 3 M NaCl is {NaCl_3M_x} +/- {NaCl_3M_s} (units?)\")\n",
    "# or is it better to report:\n",
    "print(\"the class average density for 3 M NaCl is {NaCl_3M_x} +/- {NaCl_3M_CI} at the 95% confidence interval (units?)\")\n",
    "\n",
    "# copy-paste code to complete these calculations for the DI water as well\n"
   ]
  },
  {
   "cell_type": "markdown",
   "id": "e7d707fd-3e64-4a88-b9db-c4ebc64732e8",
   "metadata": {},
   "source": [
    "## Part 1b: Common Concentration units\n",
    "\n",
    "In general chemistry, you may have encountered several common concentration units:\n",
    "Molarity:\n",
    "$$ Molarity = \\frac{moles_{solute}}{volume_{solution}} $$\n",
    "\n",
    "Mass Percent:\n",
    "$$ mass percent = \\frac{grams_{solute}}{grams_{solvent}} $$\n",
    "\n",
    "* mass percent x 100% is reported as a normal percentage\n",
    "* mass percent x 1,000,000 is reported as \"parts per million\"\n",
    "* mass percent x 1,000,000,000 is reported as \"parts per billion\"\n",
    "\n",
    "As such, parts per million in an aqueous solution is often estimated as mg/L, and parts per billion is estimated as ug/L. \n",
    "* What is the key assumption being made in that estimate? \n",
    "\n"
   ]
  },
  {
   "cell_type": "markdown",
   "id": "350fcef0-9fb9-4a7d-ab29-dedd960b2419",
   "metadata": {},
   "source": [
    "<i> Double Click to type your answer to the question above in this box </i>"
   ]
  },
  {
   "cell_type": "code",
   "execution_count": null,
   "id": "28733f26-2315-4f7e-bc37-623aca1f1def",
   "metadata": {},
   "outputs": [],
   "source": []
  },
  {
   "cell_type": "markdown",
   "id": "48785dba-bc43-4a1c-bc0a-0993dee6c725",
   "metadata": {},
   "source": [
    "## Using the T-Test to examine this assumption\n",
    "\n",
    "Is that assumption reasonable, based on your data? Let's use the t-test to examine that assumption for DI water and for 3M NaCl.\n",
    "Copy the code for the one sample t-test here, and decide whether or not you think our DI water and our 3M NaCl samples realistically have a density of 1 g/mL (or 1 kg/L)."
   ]
  },
  {
   "cell_type": "code",
   "execution_count": null,
   "id": "fcc73ed5-6fbe-401c-81f2-77e1377e2f6d",
   "metadata": {},
   "outputs": [],
   "source": [
    "# one sample t testing here\n"
   ]
  },
  {
   "cell_type": "markdown",
   "id": "3f9a9ae1-0305-4474-aca4-3a27a3cdd35e",
   "metadata": {},
   "source": [
    "## Using the two sample T-test\n",
    "\n",
    "Are we actually confident that we're distinguishing between the density of water and the density of 3 M NaCl? This is a perfect question for the two-sample t test. Remember that we first need to use the F-test to determine which t-test to use!"
   ]
  },
  {
   "cell_type": "code",
   "execution_count": null,
   "id": "b097375f-01c6-41d5-9b61-5a57a9321ffd",
   "metadata": {},
   "outputs": [],
   "source": [
    "# F test\n",
    "\n",
    "#T-test"
   ]
  },
  {
   "cell_type": "markdown",
   "id": "4dad4c36-1c57-4a84-98cd-f38fe257bd4e",
   "metadata": {},
   "source": [
    "## Using a calibration Curve to determine an unknown\n",
    "\n",
    "You also measured several other density values at different concentrations. Let's use those values to determine the concentration of our unknown salt solution.\n",
    "This is a method called <b> external calibration </b> which you have seen before. Add your density data to the lists below (be sure to add them in order in the list from high to low!)\n",
    "Then just run the rest of the code provided to generate a calibration curve with a linear best fit line. "
   ]
  },
  {
   "cell_type": "code",
   "execution_count": 4,
   "id": "df603b4a-916b-4e14-a56b-6d91775f9897",
   "metadata": {},
   "outputs": [
    {
     "data": {
      "text/plain": [
       "Text(0, 0.5, 'other numbers (unit mcunitface)')"
      ]
     },
     "execution_count": 4,
     "metadata": {},
     "output_type": "execute_result"
    },
    {
     "data": {
      "image/png": "[encoded data removed]",
      "text/plain": [
       "<Figure size 432x288 with 1 Axes>"
      ]
     },
     "metadata": {
      "needs_background": "light"
     },
     "output_type": "display_data"
    }
   ],
   "source": [
    "import matplotlib.pyplot as plt\n",
    "\n",
    "\n",
    "# sample data, replace with your own data please!\n",
    "\n",
    "concentration = [0, 1, 2, 3, 4]\n",
    "density = [1.1,1.9,2.8,4.3,5]\n",
    "\n",
    "\n",
    "\n",
    "# put together a graph using the plot command\n",
    "# in 'plot', first comes the x axis, then the y, then 'ro' plots our points as red circles. \n",
    "fig, plot1 = plt.subplots()\n",
    "plot1.plot(concentration, density, 'ro')\n",
    "\n",
    "# Add labels on the x and y axis, always including units.\n",
    "plot1.set_xlabel(\"some numbers (unity units)\")\n",
    "plot1.set_ylabel(\"other numbers (unit mcunitface)\")\n",
    "\n",
    "\n",
    "\n",
    "\n",
    "#hit run on this block of code!\n",
    "#uncomment this line if you want to save a copy of this figure\n",
    "#fig.savefig(\"myfirstpythonfigure.png\")"
   ]
  },
  {
   "cell_type": "markdown",
   "id": "ff71a490-943b-4b49-87fc-3fd18585f98d",
   "metadata": {},
   "source": [
    "### Graphing Data\n",
    "Now you should see a figure above with red dots making the data points, along with some very unhelful axis labels. \n",
    "\n",
    "1. Go back into the code and put your own data into the concentration and density arrays, including the correctnumber of sig. figs. for both density and concentration.\n",
    "\n",
    "2. Update the axis labels to something that is actually properly descriptive for your data\n",
    "\n",
    "3. In the plt.plot command, change 'ro' to 'bs'.\n",
    "\n",
    "4. Rerun your updated code and make sure you're happy with the output\n",
    "\n",
    "You should now have a plot of your real data, with useful axis labels letting you know that density is on the y axis, and concentration is on the x axis. Hopefully, your data looks fairly linear! \n"
   ]
  },
  {
   "cell_type": "markdown",
   "id": "b3b693bf-a0b5-44d5-8c02-c886a640feaf",
   "metadata": {},
   "source": [
    "## Finding the equation of the line:\n",
    "\n",
    "Now we'll do something called a linear regression (we'll get into more detail on this later in the course) to figure out the slope and intercept of a straight line that seems to fit your data:"
   ]
  },
  {
   "cell_type": "code",
   "execution_count": 8,
   "id": "8a8485da-1e7f-4b39-8f3a-688f9cfd5ffd",
   "metadata": {},
   "outputs": [
    {
     "name": "stdout",
     "output_type": "stream",
     "text": [
      "the equation of the line is y = 1.02x + 0.98 and its R-squared value is 0.9931506043228762\n"
     ]
    }
   ],
   "source": [
    "# the linear regression function in the scipy stats module returns 5 values: slope, intercept, R-squared and then two uncertainty values p and s_m\n",
    "# we'll ignore the last two for the moment, since all we really need right now is the equation of the line\n",
    "\n",
    "m, b, R2, p, s_m = stats.linregress(concentration, density)\n",
    "\n",
    "print ('the equation of the line is y = ' + str(m) + 'x + ' + str(b) + ' and its R-squared value is '+ str(R2))"
   ]
  },
  {
   "cell_type": "code",
   "execution_count": null,
   "id": "b75815d6-6872-4e75-8c37-ef60d109ec2c",
   "metadata": {},
   "outputs": [],
   "source": [
    "# record your unknown NaCl values here:\n",
    "NaCl_unk = []\n",
    "NaCl_unk_x = # complete the code to average the NaCl_unk values\n",
    "\n",
    "# now using m, b and unknown_density, we solve for unknown_concentration\n",
    "unknown_concentration = (NaCl_unk_x - b)/m\n",
    "\n",
    "#Write a nice print statement for unknown_concentration\n",
    "\n",
    "\n"
   ]
  },
  {
   "cell_type": "markdown",
   "id": "1109cacc-b421-45d2-b02a-21463ada1874",
   "metadata": {},
   "source": [
    "Using the equation above, calculate your unknown concentration by hand first. Then complete the code below to calculate the unknown concentration. Make sure your hand-written calculation and your python code are producing the same result!\n"
   ]
  },
  {
   "cell_type": "markdown",
   "id": "55c90e98-e306-4221-832f-c8c99bf8effc",
   "metadata": {},
   "source": [
    "## Post-Calculation Questions\n",
    "<i> Double Click in this Box to type your answers </i>\n",
    "    \n",
    "1. In these calculations, you ran two different t-tests. Explain, in your own words, the difference between those tests. What is different about the hypothesis being tested? What is different about the information those tests provided for you?\n",
    "\n",
    "2. Consider the results of your F-test. Does this result makes sense based on the experimental protocol? Why or why not?\n",
    "\n",
    "3. Consider your density calculations for DI water and for 3 M NaCl. In words, explain what the average and 95% confidence interval values mean for each of those data sets.\n",
    "\n",
    "4. The true value of your unknown was given at the end of lab. What was your % error? How does that accuracy assessment compare to your precision assessment? Do you think precision accounts for the majority of your error, or is there something else going on? Explain briefly.\n",
    "\n",
    "5. Based on the results here, do you think it is reasonable to appoximate parts per million or parts per billion as mg or ug per liter when working in high salinity soltions. Why, or why not?\n",
    "\n",
    "6. <b> Conclusion: </b> Look back at the goal of the experiment. What was it? Do you think you achieved it? What numerical data can you provide to support your claim (that you did or did not achieve the goal)?"
   ]
  },
  {
   "cell_type": "code",
   "execution_count": null,
   "id": "22e0bf74-b94c-4dcd-b7e2-34ab1d0592e9",
   "metadata": {},
   "outputs": [],
   "source": []
  }
 ],
 "metadata": {
  "kernelspec": {
   "display_name": "Python 3 (ipykernel)",
   "language": "python",
   "name": "python3"
  },
  "language_info": {
   "codemirror_mode": {
    "name": "ipython",
    "version": 3
   },
   "file_extension": ".py",
   "mimetype": "text/x-python",
   "name": "python",
   "nbconvert_exporter": "python",
   "pygments_lexer": "ipython3",
   "version": "3.9.12"
  }
 },
 "nbformat": 4,
 "nbformat_minor": 5
}
