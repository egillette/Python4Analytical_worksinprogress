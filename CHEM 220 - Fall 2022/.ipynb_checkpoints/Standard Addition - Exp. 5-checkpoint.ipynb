{
 "cells": [
  {
   "cell_type": "markdown",
   "metadata": {},
   "source": [
    "# Standard Addition \n",
    "Here is a framework for thinking about standard addition. Use your own experimental data from 5 B in this exercise.\n",
    "\n",
    "So first, define all of the variables you need, including all of your x and y data.\n",
    "\n",
    "I would suggest starting with your performance standard data, since you know what the answer should be in that case and you can use the known value to check your work!"
   ]
  },
  {
   "cell_type": "code",
   "execution_count": 3,
   "metadata": {},
   "outputs": [],
   "source": [
    "import math\n",
    "import matplotlib.pyplot as plt\n",
    "import scipy.stats as stats\n",
    "\n",
    "\n",
    "# Then enter all of the constant values you need for a standard addition curve. Use the values from YOUR expreiment 5B!\n",
    "\n",
    "\n",
    "# initial volume of unknown (+KCl)\n",
    "V_initial = 10\n",
    "# standard concentration\n",
    "standard_C = 1000 #ppm\n",
    "\n",
    "#volume of standard added at each step\n",
    "V_s = 0.5 # mL\n",
    "\n",
    "# peak current data (is this a single number?)\n",
    "current = []\n",
    "\n",
    "\n"
   ]
  },
  {
   "cell_type": "markdown",
   "metadata": {},
   "source": [
    "Now you need to calculate the x and y values and plot the curve using the standard addition equation you noted in your 5B prelab. \n",
    "\n",
    "Your x-axis values will be the adjusted concentration, taking into to account each addition of standard:\n",
    "\n",
    "$$ [Pb]_{f} = [Pb]_{standard} \\frac{V_{standard}}{V_{initial}} $$\n",
    "\n",
    "\n",
    "And your y-axis values will be adjusted current, again accounting for the volume changes:\n",
    "\n",
    "$$ [i]_{f} = [i]_{measured} \\frac{V_{total}}{V_{initial}} $$\n",
    "\n",
    "Remember how you have used \"append\" in previous problem to add values to a new array. As always, it can be helpful to write out a strategy for making this happen before you start writing your code!"
   ]
  },
  {
   "cell_type": "code",
   "execution_count": null,
   "metadata": {},
   "outputs": [],
   "source": [
    "# Get your x and y arrays\n",
    "# plot the data"
   ]
  },
  {
   "cell_type": "markdown",
   "metadata": {},
   "source": [
    "Get the equation of the line, the same way we did in the linear regressions lab and in experiment 4. (be sure to update the x and y variables with your own variable names!)"
   ]
  },
  {
   "cell_type": "code",
   "execution_count": null,
   "metadata": {},
   "outputs": [],
   "source": [
    " \n",
    "\n",
    "# stats.linregress returns 5 values, but we will only use 4 of them (we will ignore the p_value)\n",
    "slope, intercept, r_value, p_value, std_err = stats.linregress(x,y)\n",
    "\n",
    "\n"
   ]
  },
  {
   "cell_type": "markdown",
   "metadata": {},
   "source": [
    "To solve for the unknown in the standard addition solution, we need to solve for the x-intercept. The absolute value of the x intercept gives us the unknown concentration. Note that the x-intercept is just the point on a line where y = 0. Write out how you would solve for x in that situation before you try to write your code.\n",
    "\n",
    "\n",
    "The standard error in that concentration ($u_{x}$) is very similar to the standard error for the linear regression; but missing the component which accounts for the number of replicate measurements of the unknown (since, by default, there can only be one per standard addition experiment) and the component which requires the input of the y value of the unknown, since there isn't one! \n",
    "\n",
    "The complete equation is shown here: \n",
    "\n",
    "$$ s_{x}= \\frac{s_{y}}{\\mid{m}\\mid}{\\sqrt {\\frac {1}{n} + \\frac {\\bar{y}^{2}}{m^{2}\\sum (x-\\bar{x})^{2}}}} $$\n",
    "\n",
    "You should be able to make some slight modifications to the code you already have for your linear regressions to make this calculation"
   ]
  },
  {
   "cell_type": "code",
   "execution_count": 1,
   "metadata": {},
   "outputs": [],
   "source": [
    "# Calculate the unknown and standard error. "
   ]
  },
  {
   "cell_type": "markdown",
   "metadata": {},
   "source": [
    "Now let's complete the graph, with a best fit line, and error bars."
   ]
  },
  {
   "cell_type": "code",
   "execution_count": null,
   "metadata": {},
   "outputs": [],
   "source": [
    "# y_fit will be our best-fit line to plot along with the data.\n",
    "# add comments here to explain what this code is doing\n",
    "y_fit = []\n",
    "count = 0\n",
    "while count < len(current): \n",
    "    y_fit_temp = (slope*x[count]) + intercept\n",
    "    y_fit.append (y_fit_temp)\n",
    "    \n",
    "    count = count + 1\n",
    "\n",
    "# Here we plot both the best fit data, and the experimental data, using sy as the error bars\n",
    "plt.plot(x,y_fit)\n",
    "plt.errorbar(x, y, yerr=std_err)\n",
    "\n",
    "# add appropriate axis labels\n",
    "\n"
   ]
  },
  {
   "cell_type": "markdown",
   "metadata": {},
   "source": []
  },
  {
   "cell_type": "code",
   "execution_count": null,
   "metadata": {},
   "outputs": [],
   "source": []
  }
 ],
 "metadata": {
  "kernelspec": {
   "display_name": "Python 3",
   "language": "python",
   "name": "python3"
  },
  "language_info": {
   "codemirror_mode": {
    "name": "ipython",
    "version": 3
   },
   "file_extension": ".py",
   "mimetype": "text/x-python",
   "name": "python",
   "nbconvert_exporter": "python",
   "pygments_lexer": "ipython3",
   "version": "3.7.0"
  }
 },
 "nbformat": 4,
 "nbformat_minor": 2
}
