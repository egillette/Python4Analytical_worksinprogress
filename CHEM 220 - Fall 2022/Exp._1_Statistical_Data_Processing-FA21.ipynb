{
 "cells": [
  {
   "cell_type": "markdown",
   "metadata": {
    "id": "pPhhrJ47jY2B"
   },
   "source": [
    "# Experiment 1 Data Processing\n",
    "\n",
    "We're going to use Python to calculate some basic descriptive statisics on Module 1 data, which will help you determine whether you and your classmates were working with different NaCl standards.  (In a future lab, you'll learn to use Python to graph an external calibration curve, solve for unknown concentrations, and analyze the error involved in this process.)\n",
    "\n",
    "At first, some of this Python code is going to look like greek to you!  However, look it over carefully, and try to follow the logic, but don't get too bogged down in the details.  As you learn to code in Python during the semester, you will eventually clearly understand everything you are seeing here!  For now, let's just take a look at what Python can do!\n",
    "\n",
    "## Average, Standard Deviation and Confidence Interval:"
   ]
  },
  {
   "cell_type": "code",
   "execution_count": null,
   "metadata": {
    "id": "T8D8250zjY2F"
   },
   "outputs": [],
   "source": [
    "# In lecture this week we discussed how to write code for average, standard deviation and confidence interval!\n",
    "# Today, we're going to take advantage of some built in functions which will accomplish the same thing we coded in class\n",
    "import numpy as np\n",
    "# first, enter the density information your bench collected for tap water:\n",
    "\n",
    "d_tap = [1,0,1,0]\n",
    "mean_tap = np.mean(d_tap)\n",
    "s_tap = np.std(d_tap, ddof=1) #using ddof=1 here gets us the *sample* standard deviation, instead of the population standard deviation. This is prefered for small data sets!\n",
    "\n",
    "print(\"the average density of tap water is \" + str(mean_tap) + \"+/- \" + str(s_tap))\n",
    "\n",
    "# copy the code above, and change the variable names so that you have a new mean and standard deviation for the DI water instead\n",
    "\n",
    "\n",
    "\n"
   ]
  },
  {
   "cell_type": "markdown",
   "metadata": {
    "id": "QDSNDGxQjY2G"
   },
   "source": [
    "### Recall the New Rules For Sig. Figs:\n",
    "\n",
    "1. Round your measured value to the first significant digit of the uncertainty attached to it (standard deviation, confidence interval, tolerance, etc.)\n",
    "2. Uncertainty values should have only <b> one </b> sig. fig, unless they start with a 1, in which case you may keep one additional digit.\n",
    "\n",
    "So, to what place should we round off your average density?\n",
    "\n",
    "You can use the round() function here, but you don't have to. Just be sure the numbers are recorded CORRECTLY in your laboratory notebook at the end of the day."
   ]
  },
  {
   "cell_type": "markdown",
   "metadata": {
    "id": "s83tn-8ojY2H"
   },
   "source": [
    "Be sure to report the average and standard deviation for tap water density to the correct number of sig figs in your lab notebook R/A section!"
   ]
  },
  {
   "cell_type": "markdown",
   "metadata": {
    "id": "rmPY5yBPjY2H"
   },
   "source": [
    "### How to calculate a confidence interval\n",
    "\n",
    "The equation for confidence interval is  $ CI= {\\frac {ts}{\\sqrt {n}}} $.  We can get n from the length of the array (using the <b>len()</b> function), and you already calculated s! So now we just need t. Luckily, Python has t-tables built in, so we just have to tell it what confidence level we are interested in! See the code below, and then alter it to give you the correct sig figs:"
   ]
  },
  {
   "cell_type": "code",
   "execution_count": null,
   "metadata": {
    "id": "UuJ631SBjY2I"
   },
   "outputs": [],
   "source": [
    "import math\n",
    "\n",
    "# To look up t-critical using the stats.t.ppf function, the first input is confidence level, currently set to 95%; \n",
    "# the second input (after the comma) is degrees of freedom (n-1)\n",
    "#confidence level\n",
    "\n",
    "alpha = 0.05      # 1- alpha should equal your confidence interval. Here, we use 0.05, for a 95% confidence interval\n",
    "dof = len(d_tap) - 1   # degrees of freedom is the number of samples (i.e. the length of the list) minus one\n",
    "\n",
    "#two tailed t statistics require the following format:\n",
    "\n",
    "t = stats.t.ppf(1-alpha/2, dof) #inputs are alpha to set the confidence interval and degrees of freedom\n",
    "\n",
    "#check that this matches the value in the textbook!\n",
    "print(t)\n",
    "\n",
    "\n",
    "# calculate the actual confidence interval\n",
    "CI_tap = s_tap*t/math.sqrt(len(d_tap))\n",
    "# Output results\n",
    "print (\"The average density of tap water is \" + str(mean_tap) + \" +/- \" + str(CI_tap) + \"g/mL at the \" + str((1-alpha)*100) + \" % confidence level.\")"
   ]
  },
  {
   "cell_type": "markdown",
   "metadata": {
    "id": "dtoRZpWejY2I"
   },
   "source": [
    "This code was written for a 95% confidence interval. Try it out for 90% and 75% confidence intervals, too! Record all three values in your ELN R/A section, with the correct number of sig figs. Be sure to explain the trend!"
   ]
  },
  {
   "cell_type": "markdown",
   "metadata": {
    "id": "cafdk9qWjY2J"
   },
   "source": [
    "##  The Grubbs test, or how to discard outliers\n",
    "Now you have the average, standard deviation, and confidence interval of your data. Do you think there might be any outliers in the group? Are there any values which seem really far away from your mean, and which you think might be the result of a systematic error (the empty cylinder was wet, the wrong liquid was measured, etc.), rather than just random variation?\n",
    "\n",
    "We can't just go throwing out data points because we don't like them -- that would violate the scientific method and bias our results. But data can get legally tossed for either of the following reasons.  \n",
    "1. We have a recorded observation documenting that there was a problem with a data point when it was collected.\n",
    "1. A data point fails a statistical test, indicating that it is very likely to be erroneous.\n",
    "\n",
    "The <b>Grubbs test</b> is the 2nd option -- you may be familiar with it from General Chemistry lab.  It will tell us how likely it is that the data point we're suspicious about was produced by random variation, rather than an error. Here is a quick summary of how it works:\n",
    "\n",
    "First, we must calculate a G value for our data, using our average ($ {\\bar  {x}} $ ), our standard deviation (s) and the possible outlier ( $ x_{i} $ ). We will plug those values into the following equation: $ G={\\frac {\\left\\vert x_{i}-{\\bar  {x}}\\right\\vert }{s}} $\n",
    "\n",
    "We then compare our G value to a 'G critical' value, which we must look up in a statistical table like the one shown below. Our \"null hypothesis\" is that our calculated G value will be less than the 'G critical' value, and that our suspicious data point cannot be rejected as an outlier -- the odds that it is the result of random variation are greater than 5% (if we're using the 0.05 column for G critical). \n",
    "\n",
    "Only if our calculated G value is greater than the G critical value can we use option 2 and discard the suspicious data point as an outlier.  This Gcalc > Gcrit result tells us there is less than a 5% chance that the suspicious data point is the result of only random variation.  In other words, the chance that the point is erroneous is greater than 95% (the confidence level, 1 - 0.05).  Those odds are acceptable, so we toss the suspicious data point!\n",
    "\n"
   ]
  },
  {
   "cell_type": "markdown",
   "metadata": {
    "id": "m_PPJcj-jY2K"
   },
   "source": [
    "### Programming the Grubbs test with Python\n",
    "\n",
    "We can write programs which make decisions for us, if we can correctly communicate the criteria of the decision. This turns out to be great for statistical tests like the Grubbs test. But, to do this, we typically have to structure the descision in the form of an \"IF statement\". For example, \"if G calculated is greater than G critical, then the data point is an outlier, and can be discarded.\"  Use the following code as a starting point to re-do the Grubbs test.  Do you get the same result as when you did it by hand?"
   ]
  },
  {
   "cell_type": "code",
   "execution_count": null,
   "metadata": {
    "id": "BzVLvIO5jY2K"
   },
   "outputs": [],
   "source": [
    "# Python doesn't happen to have an easy look-up for the Grubb's critical values, \n",
    "# so just enter the one you looked up in the table provided in lecture, and complete the comment on the next line:\n",
    "G_crit = \n",
    "\n",
    "# Note: This G_crit value is for ? observations and ? confidence level.\n",
    "\n",
    "# enter your suspect density value here\n",
    "suspect = \n",
    "\n",
    "G_calc = abs(suspect - mean_tap)/s_tap\n",
    "\n",
    "if G_calc < G_crit:\n",
    "    print (str(suspect) + \" is not an outlier.\")\n",
    "if G_calc > G_crit:\n",
    "    print (str(suspect) + \" is an outlier and should be removed from the data.\")\n"
   ]
  },
  {
   "cell_type": "markdown",
   "metadata": {
    "id": "FewiavMyjY2K"
   },
   "source": [
    "Again, be sure to include this result in your ELN, with an explanation of what you've done here! If you need to remove an outlier, do so now, but be sure to recalculate your average, standard deviation and confidence interval without it, by modifying the inputs in the 1st Python code block on this page, then re-running each subsequent code cell!  (You can re-run all the code cells quickly by clicking on Kernel in the menu and selecting \"Restart & Run All\".)\n",
    "\n",
    "\n",
    "# F-tests and t-tests in Python\n",
    "\n",
    "Now we've done some basic statistics on the density values measured for tap water, but we have a question -- did it matter that we used tap water instead of deionized water, like we would have done if we had been performing the lab in the science building at USD?  In other words, do tap water and deionized water have densities that are significantly different when we're measuring densities with grad. cylinders and mini-scales at home?  This is the kind of question that an F-test and a t-test can help us answer, again making decisions with IF - THEN LOGIC.  In this case, an IF statement we might make along the way will sound like: \"if Fcalc is less than Ftable then we must run the t-test for equal variances\". \n",
    "\n",
    "Make a plan for how to approach the question:  <b>Do tap water and deionized water have densities that are significantly different ?</b>  \n",
    "\n",
    "\n"
   ]
  },
  {
   "cell_type": "markdown",
   "metadata": {
    "id": "y0CuYtk4jY2M"
   },
   "source": [
    "## Getting starting with the F-test\n",
    "Time to get to work on the F-test.  Recall that the F-test results tell us whether or not the standard deviations of two datasets are similar.\n",
    "The F-test is calculated as follows:\n",
    "\n",
    "$$ F_{calculated} = (s_{1}^{2}/s_{2}^{2}) $$\n",
    "\n",
    "Note that $ s_{1} $ must be the larger standard deviation, so you should always have an F value greater than 1!  Always check this when you do the calculation in the code block below."
   ]
  },
  {
   "cell_type": "code",
   "execution_count": null,
   "metadata": {
    "id": "-1dtnzYbjY2M"
   },
   "outputs": [],
   "source": [
    "# Just like with t values, we can tell Python to look up critical F values for us using the next line of code!\n",
    "# This function is asking for the F_crit ad 95% conf level, degrees of freedom = 4 and 5 in the two datasets.\n",
    "# Modify the code to make it fit a comparison of datasets 'tap' and 'deion'.\n",
    "\n",
    "F_crit = stats.f.ppf(q=1-0.05, dfn=4, dfd=5)\n",
    "\n",
    "# Now, build a line of code that calculates F for tap vs DI.  Add print statements for F_crit and F_calc.\n",
    "# Syntax NOTE:  you square a variable using \"var**2\" where 'var' is the name of the variable.  \n",
    "\n",
    "F_calc = \n",
    "\n",
    "print(F_calc)"
   ]
  },
  {
   "cell_type": "markdown",
   "metadata": {
    "id": "2d8Q4lcUjY2M"
   },
   "source": [
    "Is <i>F_calc</i> greater than 1?  Great!  That means you've put the variables into the code with the larger one on top.  If not, fix your calculation.\n",
    "\n",
    "## Using the F-test to choose a t-test\n",
    "Now we use our F-test result to make a decision about which t-test to use!  We'll use IF statements again to make the decision.\n",
    "\n",
    "We have two possible methods for calculating our t value.\n",
    "1. If the variance of the two data sets is the same, then we can use:\n",
    "\n",
    "$$ {\\displaystyle t_{calc}={\\frac {{\\bar {x}}_{1}-{\\bar {x}}_{2}}{s_{pooled}\\cdot {\\sqrt {{\\frac {1}{n_{1}}}+{\\frac {1}{n_{2}}}}}}}} $$\n",
    "\n",
    "where $$ s_{pooled} = {\\displaystyle s_{p}={\\sqrt {\\frac {\\left(n_{1}-1\\right)s_{{1}}^{2}+\\left(n_{2}-1\\right)s_{{2}}^{2}}{n_{1}+n_{2}-2}}}.} $$\n",
    "\n",
    "\n",
    "In this case, degrees of freedom is $ d.o.f = n_{1} + n_{2} -2 $\n",
    "\n",
    "2. If the variance of the two data sets is different, then we must use:\n",
    "$$ {\\displaystyle t={\\frac {{\\bar {x}}_{1}-{\\bar {x}}_{2}}{{\\sqrt {{\\frac {s_{1}^{2}}{n_{1}}}+{\\frac {s_{2}^{2}}{n_{2}}}}}}}} $$\n",
    "\n",
    "and the degrees of freedom equation is a little more complicated:\n",
    "\n",
    "$$ {\\displaystyle \\mathrm {d.o.f.} ={\\frac {\\left({\\frac {s_{1}^{2}}{n_{1}}}+{\\frac {s_{2}^{2}}{n_{2}}}\\right)^{2}}{{\\frac {\\left(s_{1}^{2}/n_{1}\\right)^{2}}{n_{1}-1}}+{\\frac {\\left(s_{2}^{2}/n_{2}\\right)^{2}}{n_{2}-1}}}}.} $$\n"
   ]
  },
  {
   "cell_type": "code",
   "execution_count": null,
   "metadata": {
    "id": "tK6HatT4jY2N"
   },
   "outputs": [],
   "source": [
    "# Here, add equations for the correct t test and the correct degrees of freedom calculations.  I've included some\n",
    "# old code to get you started.  Notice that you will have to either update the green n1 and n2 numbers yourself, \n",
    "# or better yet turn the green numbers into variables.  You will also have to replace the variable names throughout \n",
    "# so they match what you used in previous code cells.\n",
    "# Finally, two notes on syntax:  There must be a colon at the end of an if statement.  All indented lines after \n",
    "# the IF statement are performed if the IF statement is true.\n",
    "\n",
    "if F_calc < F_crit:\n",
    "    s_pooled = math.sqrt((24*s_2019A**2 + 24*s_2020A**2)/(24+24-2))\n",
    "    t_calc = (average_2019A - average_2020A)/(s_pooled * math.sqrt((1/25) + (1/25)))\n",
    "    dof = 25 + 25 - 2 \n",
    "    print (\"Standard deviations of the two datasets are not significantly different\")\n",
    "    \n",
    "#\n",
    "if F_calc > F_crit:\n",
    "    # Note that s_pooled is not calculated if the two datasets have different std devs.\n",
    "    t_calc = (average_2019A - average_2020A)/(math.sqrt((s_2019A**2/25)+(s_2020A**2/25)))\n",
    "    dof_n = ((s_2019A**2/25)+(s_2020A**2/25))**2\n",
    "    dof_d = (((s_2019A**2/25)**2)/24) + (((s_2020A**2/25)**2)/24)\n",
    "    dof = dof_n/dof_d\n",
    "    print (\"Standard deviations of the two datasets are significantly different\")\n",
    "\n"
   ]
  },
  {
   "cell_type": "markdown",
   "metadata": {
    "id": "9r0HNRbJjY2N"
   },
   "source": [
    "Make sure you agree with the result.\n",
    "\n",
    "## Using the t-test to answer the question\n",
    "Now we have another decision to make, using that t_calc.  Are the means of the two datasets we are comparing different, or not?  If t_calc is greater than t_critical, the means are not the same (at our confidence level), and therefore you would conclude that you are \"95% confident\" that you can measure different densities for tap and deionized water using grad cylinders and mini-scales.  We would not want to combine those data sets into a single \"pool,\" or switch between tap and deionized water in our density experiment.\n",
    "\n",
    "If, on the other hand, t_calc is less than t_critical, you CANNOT say that you are 95% confident that you can measure the density difference between tap and deionized water, because this wouldn't be truthful.  What this result would be telling you is that you haven't shown that the two samples are different at the 95% confidence level.  There is a > 5% chance that the difference in densities is due to random error.  See the difference?  This is an important distinction in interpreting statistics!\n",
    "\n",
    "\n",
    "To make this decision, again, we'll use scipy.stats to pull the right critical t value. Then write your own IF statement, like the one above, to print out a statement about whether the two data sets have similar or different means.  You can start from the code below.  <b>Be sure to add a print statement for t-calc</b> -- if it is a negative number, you made an error in the previous code cell when you subtracted a larger number from a smaller number!"
   ]
  },
  {
   "cell_type": "code",
   "execution_count": null,
   "metadata": {
    "id": "NlQwjlJgjY2N"
   },
   "outputs": [],
   "source": [
    "# Here is the t_crit lookup code.  Add comments to explain what the inputs for this function are!\n",
    "\n",
    "t_crit = stats.t.ppf(1.0 - 0.05, dof)\n",
    "\n",
    "# add your if-then statements to make your final decision!\n",
    "\n",
    "if t_calc < t_crit:\n",
    "    print(\"\")\n",
    "    \n",
    "if t_calc > t_crit:\n",
    "    print(\"\")"
   ]
  },
  {
   "cell_type": "markdown",
   "metadata": {
    "id": "JWWYjPrhrnjm"
   },
   "source": [
    "## Determine the concentration of your unknown\n",
    "\n",
    "Now we know whether the tap water and DI water data can be pooled together, or should be treated seperately. If it can be pooled, use the average of all of your data for the blank (i.e. [NaCl] = 0 M) data point. If it cannot be pooled, which data set is more appropriate to use for your samples?\n"
   ]
  },
  {
   "cell_type": "code",
   "execution_count": null,
   "metadata": {
    "id": "c8GgIt7Gr9zu"
   },
   "outputs": [],
   "source": [
    "# record your actual NaCl concentrations here. Be sure to include zero!\n",
    "NaCl = np.array([0.0,1.1,2.2,3.1,4.0])\n",
    "#record your calculated densities for each concentration here. Be sure they are in the same order as the concentrations above!\n",
    "den = [0,2,4,6,8]\n",
    "\n",
    "# first, we'll plot the data and make sure everything looks OK\n",
    "import matplotlib.pyplot as plt\n",
    "plt.plot(NaCl, den, 'ro')\n",
    "\n",
    "# Add labels on the x and y axis, always including units.\n",
    "plt.xlabel(\"x axis label (units)\")\n",
    "plt.ylabel(\"y axis labels (are there units here too?)\")"
   ]
  },
  {
   "cell_type": "code",
   "execution_count": null,
   "metadata": {
    "id": "6o9Vo-FpsuTq"
   },
   "outputs": [],
   "source": [
    "# next, let's get a linear regression for this data. We'll spend more time with this late, for now, just trust me that this function works!\n",
    "import scipy.stats as stats\n",
    "\n",
    "m, b, R2, p, s_m = stats.linregress(NaCl, den)\n",
    "\n",
    "print ('the equation of the line is y = ' + str(m) + 'x + ' + str(b) + ' and its R-squared value is '+ str(R2))"
   ]
  },
  {
   "cell_type": "markdown",
   "metadata": {
    "id": "mPQmoQ5ntTJK"
   },
   "source": [
    "## Adding the 'best fit line' to your graph\n",
    "\n",
    "It's always a nice reality check to see the line plotted along with your data. In this case, we can think about this line as a model to help us make a prediction about our data. So we can plug in a range of concentration values, and we so we can plot the y values that our y = mx + b model predicts, and see how well it matches the real data."
   ]
  },
  {
   "cell_type": "code",
   "execution_count": null,
   "metadata": {
    "id": "7pp7rgD2tU6p"
   },
   "outputs": [],
   "source": [
    "# Use our predicted model\n",
    "predict_y = (NaCl*m)-b\n",
    "# Plot the predicted data (note if we don't ask for a specific marker style, we'll just get a line)\n",
    "plt.plot(NaCl,predict_y)\n",
    "#add the real data, leaving it as red dots\n",
    "plt.plot(NaCl, den, 'ro')\n",
    "\n",
    "#what's missing? copy and paste some stuff from the previous graph to finish this up!\n",
    "\n",
    "# If you'd like to save this graph, uncomment the line below:\n",
    "\n",
    "# plt.savefig('myfirstpythongraph.png')\n",
    "\n",
    "#the file myfirstpythongraph.png will now appear in the files on the left side of your screen in Colab, or in the local folder this notebook is saved in on your computer, if you're in Jupyter.\n",
    "# Add this file to your ELN, with a description of what this is!"
   ]
  },
  {
   "cell_type": "markdown",
   "metadata": {
    "id": "EuAd5Du6uLpk"
   },
   "source": [
    "## Solve for your unknown\n",
    "\n",
    "Using the equation above, calculate your unknown concentration by hand first. Then complete the code below to calculate the unknown concentration. Make sure your hand-written calculation and your python code are producing the same result!\n",
    "Be sure to record your final result in the ELN.\n"
   ]
  },
  {
   "cell_type": "code",
   "execution_count": null,
   "metadata": {
    "id": "N3wK9hvVuNxa"
   },
   "outputs": [],
   "source": [
    "# add your unknown density here\n",
    "den_unknown = \n",
    "# now using m, b and unknown_density, solve for unknown_concentration\n",
    "unknown_concentration = (den_unknown-b)/m\n",
    "\n",
    "print ('the concentration of the unknown is ' + str(unknown_concentration) + ' M')\n",
    "\n",
    "#do your values match? If not, check your math!"
   ]
  },
  {
   "cell_type": "markdown",
   "metadata": {
    "id": "jd3z4UHNvda5"
   },
   "source": [
    "Get the actual unknown concentration from Dr. G and calculate percent error. This is the last peice of data that needs to go into your ELN! You may use the code block below to calculate % error. Recall that the formula is \n",
    "\n",
    "$ {\\%error = {100\\%\\times \\left|{\\frac {actual-measured}{actual}}\\right|.}}$"
   ]
  },
  {
   "cell_type": "code",
   "execution_count": null,
   "metadata": {
    "id": "bSb_taS9wlKJ"
   },
   "outputs": [],
   "source": []
  },
  {
   "cell_type": "markdown",
   "metadata": {
    "id": "vfRmgox5jY2N"
   },
   "source": [
    "Congrats -- now you have fully operational Python code for calculaing averages, standard deviations, confidence intervals, and F and t-tests! You also have preliminary code for linear regressions.  You can reuse any of this code in later labs, whenever you need to repeat any of these functions! \n",
    "\n",
    "This is the real beauty of a programming language like Python; keep copies of all of your completed Jupyter notebooks, and copy-paste the code anytime it will be useful.\n",
    "\n",
    "Now, to finish up the assignment:\n",
    "\n",
    "1. Click on the notebook title \"Exp. 1 Statistical Data Processing-FA21\" and add your name to the title. If the words 'unsaved changes' are still next to the title, be sure to hit the save button.\n",
    "\n",
    "2. Open your CHEM 220 folder. You should see your new file name as a .ipynb file. Attach that file to your Module 1 Results and Analysis section in Lab Archives. \n",
    "\n",
    "Congrats! You've finished your first programming assignment with REAL data from A-chem lab! "
   ]
  },
  {
   "cell_type": "code",
   "execution_count": null,
   "metadata": {
    "id": "11Z8IvE6jY2N"
   },
   "outputs": [],
   "source": []
  }
 ],
 "metadata": {
  "colab": {
   "name": "Exp._1_Statistical_Data_Processing-FA21.ipynb",
   "provenance": []
  },
  "kernelspec": {
   "display_name": "Python 3 (ipykernel)",
   "language": "python",
   "name": "python3"
  },
  "language_info": {
   "codemirror_mode": {
    "name": "ipython",
    "version": 3
   },
   "file_extension": ".py",
   "mimetype": "text/x-python",
   "name": "python",
   "nbconvert_exporter": "python",
   "pygments_lexer": "ipython3",
   "version": "3.9.12"
  }
 },
 "nbformat": 4,
 "nbformat_minor": 4
}
